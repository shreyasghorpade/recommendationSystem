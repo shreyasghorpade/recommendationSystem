{
 "cells": [
  {
   "cell_type": "code",
   "execution_count": 122,
   "id": "988c11d5",
   "metadata": {},
   "outputs": [
    {
     "name": "stdout",
     "output_type": "stream",
     "text": [
      "Using device: mps\n"
     ]
    }
   ],
   "source": [
    "import pandas as pd\n",
    "import numpy as np\n",
    "import torch\n",
    "import torch.nn as nn\n",
    "import torch.optim as optim\n",
    "from torch.utils.data import TensorDataset, DataLoader\n",
    "\n",
    "# pick device\n",
    "device = torch.device(\"mps\" if torch.backends.mps.is_available() else \"cpu\")\n",
    "print(\"Using device:\", device)"
   ]
  },
  {
   "cell_type": "code",
   "execution_count": 123,
   "id": "2cb174d8",
   "metadata": {},
   "outputs": [],
   "source": [
    "movieData = pd.read_csv(\"data/ratings.csv\")\n",
    "movieData.drop(\"timestamp\", axis = 1, inplace=True)"
   ]
  },
  {
   "cell_type": "code",
   "execution_count": 124,
   "id": "f17b476b",
   "metadata": {},
   "outputs": [],
   "source": [
    "# Scaling ratings\n",
    "\n",
    "ratings, min_rating, max_rating = movieData[\"rating\"], movieData[\"rating\"].min(), movieData[\"rating\"].max()\n",
    "movieData[\"rating\"] = (ratings - min_rating)/ (max_rating - min_rating)\n"
   ]
  },
  {
   "cell_type": "code",
   "execution_count": 125,
   "id": "7cb9a438",
   "metadata": {},
   "outputs": [],
   "source": [
    "# Reindexing user Ids and Movie Ids\n",
    "\n",
    "unqusers = movieData[\"userId\"].unique()\n",
    "unqmovies = movieData[\"movieId\"].unique()\n",
    "\n",
    "nUsers = movieData[\"userId\"].nunique()\n",
    "nMovies = movieData[\"movieId\"].nunique()\n",
    "\n",
    "\n",
    "userIndex = {old : new for new, old in enumerate(unqusers)}\n",
    "movieIndex = {old : new for new, old in enumerate(unqmovies)}\n",
    "reverse_userIndex = {v : k for k, v in userIndex.items()}\n",
    "reverse_movieIndex = {v : k for k, v in movieIndex.items()}\n",
    "\n",
    "movieData[\"userId\"] = movieData[\"userId\"].map(userIndex)\n",
    "movieData[\"movieId\"] = movieData[\"movieId\"].map(movieIndex)"
   ]
  },
  {
   "cell_type": "code",
   "execution_count": 126,
   "id": "af00199c",
   "metadata": {},
   "outputs": [
    {
     "data": {
      "text/html": [
       "<div>\n",
       "<style scoped>\n",
       "    .dataframe tbody tr th:only-of-type {\n",
       "        vertical-align: middle;\n",
       "    }\n",
       "\n",
       "    .dataframe tbody tr th {\n",
       "        vertical-align: top;\n",
       "    }\n",
       "\n",
       "    .dataframe thead th {\n",
       "        text-align: right;\n",
       "    }\n",
       "</style>\n",
       "<table border=\"1\" class=\"dataframe\">\n",
       "  <thead>\n",
       "    <tr style=\"text-align: right;\">\n",
       "      <th></th>\n",
       "      <th>userId</th>\n",
       "      <th>movieId</th>\n",
       "      <th>rating</th>\n",
       "    </tr>\n",
       "  </thead>\n",
       "  <tbody>\n",
       "    <tr>\n",
       "      <th>0</th>\n",
       "      <td>0</td>\n",
       "      <td>0</td>\n",
       "      <td>0.777778</td>\n",
       "    </tr>\n",
       "    <tr>\n",
       "      <th>1</th>\n",
       "      <td>0</td>\n",
       "      <td>1</td>\n",
       "      <td>0.777778</td>\n",
       "    </tr>\n",
       "    <tr>\n",
       "      <th>2</th>\n",
       "      <td>0</td>\n",
       "      <td>2</td>\n",
       "      <td>0.777778</td>\n",
       "    </tr>\n",
       "    <tr>\n",
       "      <th>3</th>\n",
       "      <td>0</td>\n",
       "      <td>3</td>\n",
       "      <td>1.000000</td>\n",
       "    </tr>\n",
       "    <tr>\n",
       "      <th>4</th>\n",
       "      <td>0</td>\n",
       "      <td>4</td>\n",
       "      <td>1.000000</td>\n",
       "    </tr>\n",
       "  </tbody>\n",
       "</table>\n",
       "</div>"
      ],
      "text/plain": [
       "   userId  movieId    rating\n",
       "0       0        0  0.777778\n",
       "1       0        1  0.777778\n",
       "2       0        2  0.777778\n",
       "3       0        3  1.000000\n",
       "4       0        4  1.000000"
      ]
     },
     "execution_count": 126,
     "metadata": {},
     "output_type": "execute_result"
    }
   ],
   "source": [
    "movieData.head(5)"
   ]
  },
  {
   "cell_type": "code",
   "execution_count": 127,
   "id": "0e390c2f",
   "metadata": {},
   "outputs": [],
   "source": [
    "# Preparing the data\n",
    "\n",
    "users = torch.LongTensor(movieData[\"userId\"].values)\n",
    "items = torch.LongTensor(movieData[\"movieId\"].values)\n",
    "ratings = torch.FloatTensor(movieData[\"rating\"].values)\n",
    "\n",
    "dataset = TensorDataset(users, items, ratings)\n",
    "loader = DataLoader(dataset, batch_size=512, shuffle=True)"
   ]
  },
  {
   "cell_type": "code",
   "execution_count": null,
   "id": "a7246691",
   "metadata": {},
   "outputs": [],
   "source": [
    "# Matrix Factorization Model\n",
    "\n",
    "class MFModel(nn.Module):\n",
    "    \"Matrix Factorization Model\"\n",
    "    \n",
    "    def __init__(self, num_users: int, num_items: int, embedding_dim: int):\n",
    "        \"Initializing the parameters\"\n",
    "        super().__init__()\n",
    "        \n",
    "        self.user_embeddings = nn.Embedding(num_embeddings=num_users, embedding_dim=embedding_dim)\n",
    "        self.item_embeddings = nn.Embedding(num_embeddings=num_items, embedding_dim=embedding_dim)\n",
    "        \n",
    "        nn.init.normal_(self.user_embeddings.weight, std=0.01)\n",
    "        nn.init.normal_(self.item_embeddings.weight, std=0.01)\n",
    "        \n",
    "\n",
    "    def forward(self, users: torch.tensor, items: torch.tensor):\n",
    "        \"Performs the forward pass\"\n",
    "        \n",
    "        user_embeddings = self.user_embeddings(users)\n",
    "        item_embeddings = self.item_embeddings(items)\n",
    "        \n",
    "        out = (user_embeddings * item_embeddings).sum(dim = 1)\n",
    "        \n",
    "        return out\n",
    "        "
   ]
  },
  {
   "cell_type": "code",
   "execution_count": 129,
   "id": "ecd620c6",
   "metadata": {},
   "outputs": [],
   "source": [
    "# Setting up the model\n",
    "\n",
    "model = MFModel(nUsers, nMovies, embedding_dim=20)\n",
    "criterion = nn.MSELoss()\n",
    "optimizer = torch.optim.Adam(model.parameters(), lr=0.001, weight_decay=1e-4)"
   ]
  },
  {
   "cell_type": "code",
   "execution_count": 130,
   "id": "fd3790f0",
   "metadata": {},
   "outputs": [
    {
     "name": "stdout",
     "output_type": "stream",
     "text": [
      "Epoch 1/10, Loss: 0.4497\n",
      "Epoch 2/10, Loss: 0.1641\n",
      "Epoch 3/10, Loss: 0.0911\n",
      "Epoch 4/10, Loss: 0.0744\n",
      "Epoch 5/10, Loss: 0.0674\n",
      "Epoch 6/10, Loss: 0.0638\n",
      "Epoch 7/10, Loss: 0.0616\n",
      "Epoch 8/10, Loss: 0.0604\n",
      "Epoch 9/10, Loss: 0.0595\n",
      "Epoch 10/10, Loss: 0.0588\n"
     ]
    }
   ],
   "source": [
    "epochs = 10\n",
    "for epoch in range(epochs):\n",
    "    model.train()\n",
    "    total_loss = 0\n",
    "    \n",
    "    for batch_users, batch_items, batch_ratings in loader:\n",
    "        optimizer.zero_grad()\n",
    "        \n",
    "        preds = model(batch_users, batch_items)\n",
    "        loss = criterion(preds, batch_ratings)\n",
    "        \n",
    "        loss.backward()\n",
    "        optimizer.step()\n",
    "        \n",
    "        total_loss += loss.item()\n",
    "    \n",
    "    print(f\"Epoch {epoch+1}/{epochs}, Loss: {total_loss/len(loader):.4f}\")\n"
   ]
  },
  {
   "cell_type": "code",
   "execution_count": 131,
   "id": "1181ebc3",
   "metadata": {},
   "outputs": [],
   "source": [
    "import math\n",
    "\n",
    "def evaluate_rmse(model, data_loader, criterion=nn.MSELoss()):\n",
    "    model.eval()\n",
    "    total_loss = 0.0\n",
    "    count = 0\n",
    "    \n",
    "    with torch.no_grad():\n",
    "        for users, items, ratings in data_loader:\n",
    "            preds = model(users, items)\n",
    "            # make sure preds and ratings have same shape\n",
    "            if preds.dim() > 1:\n",
    "                preds = preds.view(-1)\n",
    "            loss = criterion(preds, ratings)\n",
    "            total_loss += loss.item() * len(ratings)  # accumulate weighted by batch size\n",
    "            count += len(ratings)\n",
    "    \n",
    "    mse = total_loss / count\n",
    "    rmse = math.sqrt(mse)\n",
    "    return rmse"
   ]
  },
  {
   "cell_type": "code",
   "execution_count": 132,
   "id": "9e37460d",
   "metadata": {},
   "outputs": [
    {
     "name": "stdout",
     "output_type": "stream",
     "text": [
      "MF RMSE: 0.23313689092011203\n"
     ]
    }
   ],
   "source": [
    "mf_rmse = evaluate_rmse(model, loader)\n",
    "print(\"MF RMSE:\", mf_rmse)"
   ]
  }
 ],
 "metadata": {
  "kernelspec": {
   "display_name": "myenv",
   "language": "python",
   "name": "python3"
  },
  "language_info": {
   "codemirror_mode": {
    "name": "ipython",
    "version": 3
   },
   "file_extension": ".py",
   "mimetype": "text/x-python",
   "name": "python",
   "nbconvert_exporter": "python",
   "pygments_lexer": "ipython3",
   "version": "3.9.6"
  }
 },
 "nbformat": 4,
 "nbformat_minor": 5
}

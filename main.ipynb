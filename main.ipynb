{
 "cells": [
  {
   "cell_type": "code",
   "execution_count": 1,
   "id": "7bc3238f",
   "metadata": {},
   "outputs": [
    {
     "name": "stdout",
     "output_type": "stream",
     "text": [
      "Using device: cpu\n"
     ]
    }
   ],
   "source": [
    "import math, random\n",
    "import numpy as np\n",
    "import pandas as pd\n",
    "import torch\n",
    "import torch.nn as nn\n",
    "import random\n",
    "import matplotlib.pyplot as plt\n",
    "\n",
    "device = torch.device(\"cuda\" if torch.cuda.is_available() else \"cpu\")\n",
    "print(\"Using device:\", device)"
   ]
  },
  {
   "cell_type": "code",
   "execution_count": 2,
   "id": "974802d6",
   "metadata": {},
   "outputs": [],
   "source": [
    "from models.models import MF_Implicit, GMF_Implicit, NeuMF\n",
    "from evaluation.utils import prepare_dataset, sample_train_batch\n",
    "from evaluation.metrics import eval_hr_ndcg"
   ]
  },
  {
   "cell_type": "code",
   "execution_count": 3,
   "id": "29767199",
   "metadata": {},
   "outputs": [
    {
     "name": "stderr",
     "output_type": "stream",
     "text": [
      "/Users/shreyasghorpade/Desktop/Projects/recommendationsystem/recommendationSystem/evaluation/utils.py:32: FutureWarning: DataFrameGroupBy.apply operated on the grouping columns. This behavior is deprecated, and in a future version of pandas the grouping columns will be excluded from the operation. Either pass `include_groups=False` to exclude the groupings or explicitly select the grouping columns after groupby to silence this warning.\n",
      "  test_idx = pos.groupby(\"userId\", group_keys=False).apply(lambda x: x.sample(1, random_state=42)).index\n"
     ]
    }
   ],
   "source": [
    "uids, iids, n_users, n_items, uid2idx, iid2idx, revUserIdx, revItemIdx, test_df, train_df, train_ui = prepare_dataset(\"./data/ratings.csv\")"
   ]
  },
  {
   "cell_type": "code",
   "execution_count": 4,
   "id": "6b9d41fd",
   "metadata": {},
   "outputs": [
    {
     "name": "stdout",
     "output_type": "stream",
     "text": [
      "Epoch 01 | Loss: 0.6931 | HR@10: 0.1084 | NDCG@10: 0.0488\n",
      "Epoch 02 | Loss: 0.6932 | HR@10: 0.1133 | NDCG@10: 0.0506\n",
      "Epoch 04 | Loss: 0.6931 | HR@10: 0.1149 | NDCG@10: 0.0512\n",
      "Epoch 06 | Loss: 0.6931 | HR@10: 0.1149 | NDCG@10: 0.0509\n",
      "Epoch 08 | Loss: 0.6931 | HR@10: 0.1199 | NDCG@10: 0.0533\n",
      "Epoch 10 | Loss: 0.6931 | HR@10: 0.1232 | NDCG@10: 0.0542\n",
      "Epoch 12 | Loss: 0.6931 | HR@10: 0.1182 | NDCG@10: 0.0538\n",
      "Epoch 14 | Loss: 0.6931 | HR@10: 0.1199 | NDCG@10: 0.0545\n",
      "Epoch 16 | Loss: 0.6931 | HR@10: 0.1248 | NDCG@10: 0.0569\n",
      "Epoch 18 | Loss: 0.6931 | HR@10: 0.1248 | NDCG@10: 0.0569\n",
      "Epoch 20 | Loss: 0.6931 | HR@10: 0.1281 | NDCG@10: 0.0575\n",
      "Epoch 22 | Loss: 0.6931 | HR@10: 0.1363 | NDCG@10: 0.0617\n",
      "Epoch 24 | Loss: 0.6931 | HR@10: 0.1363 | NDCG@10: 0.0610\n",
      "Epoch 26 | Loss: 0.6931 | HR@10: 0.1396 | NDCG@10: 0.0625\n",
      "Epoch 28 | Loss: 0.6931 | HR@10: 0.1346 | NDCG@10: 0.0626\n",
      "Epoch 30 | Loss: 0.6931 | HR@10: 0.1363 | NDCG@10: 0.0633\n"
     ]
    }
   ],
   "source": [
    "# Training MF implicit Model\n",
    "\n",
    "model_mf = MF_Implicit(n_users, n_items, k=32).to(device)\n",
    "criterion = nn.BCEWithLogitsLoss()\n",
    "optimizer = torch.optim.Adam(model_mf.parameters(), lr=8e-4, weight_decay=1e-6)\n",
    "\n",
    "epochs = 30\n",
    "results_mf = []\n",
    "for e in range(1, epochs+1):\n",
    "    model_mf.train()\n",
    "    U,I,Y = sample_train_batch(train_df, n_items, train_ui, num_neg=4)\n",
    "    U,I,Y = U.to(device), I.to(device), Y.to(device)\n",
    "    optimizer.zero_grad()\n",
    "    loss = criterion(model_mf(U,I), Y); loss.backward(); optimizer.step()\n",
    "\n",
    "    if e==1 or e%2==0:\n",
    "        hr, ndcg = eval_hr_ndcg(model_mf, test_df, train_ui, n_items, k=10, n_neg=100, device=device)\n",
    "        print(f\"Epoch {e:02d} | Loss: {loss.item():.4f} | HR@10: {hr:.4f} | NDCG@10: {ndcg:.4f}\")\n",
    "        results_mf.append({\"epoch\": e, \"hr\": hr, \"ndcg\": ndcg})\n",
    "        \n",
    "pd.DataFrame(results_mf).to_csv(\"results/mf_results.csv\", index=False)\n",
    "torch.save(model_mf.state_dict(), \"results/mf_model.pth\")"
   ]
  },
  {
   "cell_type": "code",
   "execution_count": 5,
   "id": "5c9621e6",
   "metadata": {},
   "outputs": [
    {
     "name": "stdout",
     "output_type": "stream",
     "text": [
      "Epoch 01 | Loss: 0.6931 | HR@10: 0.1215 | NDCG@10: 0.0555\n",
      "Epoch 02 | Loss: 0.6929 | HR@10: 0.1264 | NDCG@10: 0.0560\n",
      "Epoch 04 | Loss: 0.6924 | HR@10: 0.1199 | NDCG@10: 0.0526\n",
      "Epoch 06 | Loss: 0.6919 | HR@10: 0.1264 | NDCG@10: 0.0529\n",
      "Epoch 08 | Loss: 0.6915 | HR@10: 0.1232 | NDCG@10: 0.0521\n",
      "Epoch 10 | Loss: 0.6910 | HR@10: 0.1232 | NDCG@10: 0.0527\n",
      "Epoch 12 | Loss: 0.6905 | HR@10: 0.1264 | NDCG@10: 0.0539\n",
      "Epoch 14 | Loss: 0.6900 | HR@10: 0.1248 | NDCG@10: 0.0542\n",
      "Epoch 16 | Loss: 0.6896 | HR@10: 0.1281 | NDCG@10: 0.0555\n",
      "Epoch 18 | Loss: 0.6891 | HR@10: 0.1346 | NDCG@10: 0.0584\n",
      "Epoch 20 | Loss: 0.6886 | HR@10: 0.1346 | NDCG@10: 0.0594\n",
      "Epoch 22 | Loss: 0.6881 | HR@10: 0.1396 | NDCG@10: 0.0618\n",
      "Epoch 24 | Loss: 0.6877 | HR@10: 0.1379 | NDCG@10: 0.0616\n",
      "Epoch 26 | Loss: 0.6872 | HR@10: 0.1379 | NDCG@10: 0.0635\n",
      "Epoch 28 | Loss: 0.6867 | HR@10: 0.1412 | NDCG@10: 0.0663\n",
      "Epoch 30 | Loss: 0.6863 | HR@10: 0.1445 | NDCG@10: 0.0699\n"
     ]
    }
   ],
   "source": [
    "model_gmf = GMF_Implicit(n_users, n_items, k=32).to(device)\n",
    "criterion = nn.BCEWithLogitsLoss()\n",
    "optimizer = torch.optim.Adam(model_gmf.parameters(), lr=8e-4, weight_decay=1e-6)\n",
    "\n",
    "epochs = 30\n",
    "results_gmf = []\n",
    "for e in range(1, epochs+1):\n",
    "    model_gmf.train()\n",
    "    U,I,Y = sample_train_batch(train_df, n_items, train_ui, num_neg=4)\n",
    "    U,I,Y = U.to(device), I.to(device), Y.to(device)\n",
    "    optimizer.zero_grad()\n",
    "    loss = criterion(model_gmf(U,I), Y); loss.backward(); optimizer.step()\n",
    "\n",
    "    if e==1 or e%2==0:\n",
    "        hr, ndcg = eval_hr_ndcg(model_gmf, test_df, train_ui, n_items, k=10, n_neg=100, device=device)\n",
    "        print(f\"Epoch {e:02d} | Loss: {loss.item():.4f} | HR@10: {hr:.4f} | NDCG@10: {ndcg:.4f}\")\n",
    "        results_gmf.append({\"epoch\": e, \"hr\": hr, \"ndcg\": ndcg})\n",
    "        \n",
    "pd.DataFrame(results_gmf).to_csv(\"results/gmf_results.csv\", index=False)\n",
    "torch.save(model_gmf.state_dict(), \"results/gmf_model.pth\")"
   ]
  },
  {
   "cell_type": "code",
   "execution_count": 6,
   "id": "a05acc99",
   "metadata": {},
   "outputs": [
    {
     "name": "stdout",
     "output_type": "stream",
     "text": [
      "Epoch 01 | BCE: 0.6957 | HR@10: 0.1363 | NDCG@10: 0.0593\n",
      "Epoch 02 | BCE: 0.6940 | HR@10: 0.1839 | NDCG@10: 0.0917\n",
      "Epoch 04 | BCE: 0.6906 | HR@10: 0.3333 | NDCG@10: 0.1813\n",
      "Epoch 06 | BCE: 0.6873 | HR@10: 0.4138 | NDCG@10: 0.2656\n",
      "Epoch 08 | BCE: 0.6840 | HR@10: 0.5172 | NDCG@10: 0.3299\n",
      "Epoch 10 | BCE: 0.6807 | HR@10: 0.5665 | NDCG@10: 0.3747\n",
      "Epoch 12 | BCE: 0.6774 | HR@10: 0.5944 | NDCG@10: 0.3990\n",
      "Epoch 14 | BCE: 0.6743 | HR@10: 0.6141 | NDCG@10: 0.4183\n",
      "Epoch 16 | BCE: 0.6712 | HR@10: 0.6223 | NDCG@10: 0.4291\n",
      "Epoch 18 | BCE: 0.6681 | HR@10: 0.6388 | NDCG@10: 0.4398\n",
      "Epoch 20 | BCE: 0.6651 | HR@10: 0.6502 | NDCG@10: 0.4487\n",
      "Epoch 22 | BCE: 0.6620 | HR@10: 0.6634 | NDCG@10: 0.4500\n",
      "Epoch 24 | BCE: 0.6587 | HR@10: 0.6683 | NDCG@10: 0.4568\n",
      "Epoch 26 | BCE: 0.6554 | HR@10: 0.6700 | NDCG@10: 0.4612\n",
      "Epoch 28 | BCE: 0.6519 | HR@10: 0.6782 | NDCG@10: 0.4621\n",
      "Epoch 30 | BCE: 0.6482 | HR@10: 0.6946 | NDCG@10: 0.4705\n"
     ]
    }
   ],
   "source": [
    "model_neumf = NeuMF(n_users, n_items, k_gmf=32, k_mlp=32, mlp_layers=(64,32,16)).to(device)\n",
    "opt = torch.optim.Adam(model_neumf.parameters(), lr=8e-4, weight_decay=1e-6)\n",
    "crit = nn.BCEWithLogitsLoss()\n",
    "\n",
    "epochs = 30\n",
    "results_neumf = []\n",
    "for e in range(1, epochs+1):\n",
    "    model_neumf.train()\n",
    "    # (optional) sample a subset of users each epoch for speed on larger data\n",
    "    batch_users = None\n",
    "    U,I,Y = sample_train_batch(train_df, n_items, train_ui, num_neg=4, users_subset=batch_users)\n",
    "    U,I,Y = U.to(device), I.to(device), Y.to(device)\n",
    "    opt.zero_grad()\n",
    "    loss = crit(model_neumf(U,I), Y); loss.backward(); opt.step()\n",
    "\n",
    "    if e==1 or e%2==0:\n",
    "        hr, ndcg = eval_hr_ndcg(model_neumf, test_df, train_ui, n_items, k=10, n_neg=100, device=device)\n",
    "        print(f\"Epoch {e:02d} | BCE: {loss.item():.4f} | HR@10: {hr:.4f} | NDCG@10: {ndcg:.4f}\")\n",
    "        results_neumf.append({'epoch': e, \"hr\": hr, \"ndcg\":ndcg})\n",
    "        \n",
    "pd.DataFrame(results_neumf).to_csv(\"results/neumf_results.csv\", index=False)\n",
    "torch.save(model_neumf.state_dict(), \"results/neumf_model.pth\")"
   ]
  },
  {
   "cell_type": "code",
   "execution_count": 7,
   "id": "febf914e",
   "metadata": {},
   "outputs": [
    {
     "data": {
      "text/html": [
       "<div>\n",
       "<style scoped>\n",
       "    .dataframe tbody tr th:only-of-type {\n",
       "        vertical-align: middle;\n",
       "    }\n",
       "\n",
       "    .dataframe tbody tr th {\n",
       "        vertical-align: top;\n",
       "    }\n",
       "\n",
       "    .dataframe thead th {\n",
       "        text-align: right;\n",
       "    }\n",
       "</style>\n",
       "<table border=\"1\" class=\"dataframe\">\n",
       "  <thead>\n",
       "    <tr style=\"text-align: right;\">\n",
       "      <th></th>\n",
       "      <th>epoch</th>\n",
       "      <th>hr</th>\n",
       "      <th>ndcg</th>\n",
       "    </tr>\n",
       "  </thead>\n",
       "  <tbody>\n",
       "    <tr>\n",
       "      <th>0</th>\n",
       "      <td>1</td>\n",
       "      <td>0.108374</td>\n",
       "      <td>0.048844</td>\n",
       "    </tr>\n",
       "    <tr>\n",
       "      <th>1</th>\n",
       "      <td>2</td>\n",
       "      <td>0.113300</td>\n",
       "      <td>0.050597</td>\n",
       "    </tr>\n",
       "    <tr>\n",
       "      <th>2</th>\n",
       "      <td>4</td>\n",
       "      <td>0.114943</td>\n",
       "      <td>0.051203</td>\n",
       "    </tr>\n",
       "    <tr>\n",
       "      <th>3</th>\n",
       "      <td>6</td>\n",
       "      <td>0.114943</td>\n",
       "      <td>0.050854</td>\n",
       "    </tr>\n",
       "    <tr>\n",
       "      <th>4</th>\n",
       "      <td>8</td>\n",
       "      <td>0.119869</td>\n",
       "      <td>0.053308</td>\n",
       "    </tr>\n",
       "  </tbody>\n",
       "</table>\n",
       "</div>"
      ],
      "text/plain": [
       "   epoch        hr      ndcg\n",
       "0      1  0.108374  0.048844\n",
       "1      2  0.113300  0.050597\n",
       "2      4  0.114943  0.051203\n",
       "3      6  0.114943  0.050854\n",
       "4      8  0.119869  0.053308"
      ]
     },
     "metadata": {},
     "output_type": "display_data"
    },
    {
     "data": {
      "text/html": [
       "<div>\n",
       "<style scoped>\n",
       "    .dataframe tbody tr th:only-of-type {\n",
       "        vertical-align: middle;\n",
       "    }\n",
       "\n",
       "    .dataframe tbody tr th {\n",
       "        vertical-align: top;\n",
       "    }\n",
       "\n",
       "    .dataframe thead th {\n",
       "        text-align: right;\n",
       "    }\n",
       "</style>\n",
       "<table border=\"1\" class=\"dataframe\">\n",
       "  <thead>\n",
       "    <tr style=\"text-align: right;\">\n",
       "      <th></th>\n",
       "      <th>epoch</th>\n",
       "      <th>hr</th>\n",
       "      <th>ndcg</th>\n",
       "    </tr>\n",
       "  </thead>\n",
       "  <tbody>\n",
       "    <tr>\n",
       "      <th>0</th>\n",
       "      <td>1</td>\n",
       "      <td>0.121511</td>\n",
       "      <td>0.055479</td>\n",
       "    </tr>\n",
       "    <tr>\n",
       "      <th>1</th>\n",
       "      <td>2</td>\n",
       "      <td>0.126437</td>\n",
       "      <td>0.055998</td>\n",
       "    </tr>\n",
       "    <tr>\n",
       "      <th>2</th>\n",
       "      <td>4</td>\n",
       "      <td>0.119869</td>\n",
       "      <td>0.052588</td>\n",
       "    </tr>\n",
       "    <tr>\n",
       "      <th>3</th>\n",
       "      <td>6</td>\n",
       "      <td>0.126437</td>\n",
       "      <td>0.052930</td>\n",
       "    </tr>\n",
       "    <tr>\n",
       "      <th>4</th>\n",
       "      <td>8</td>\n",
       "      <td>0.123153</td>\n",
       "      <td>0.052097</td>\n",
       "    </tr>\n",
       "  </tbody>\n",
       "</table>\n",
       "</div>"
      ],
      "text/plain": [
       "   epoch        hr      ndcg\n",
       "0      1  0.121511  0.055479\n",
       "1      2  0.126437  0.055998\n",
       "2      4  0.119869  0.052588\n",
       "3      6  0.126437  0.052930\n",
       "4      8  0.123153  0.052097"
      ]
     },
     "metadata": {},
     "output_type": "display_data"
    },
    {
     "data": {
      "text/html": [
       "<div>\n",
       "<style scoped>\n",
       "    .dataframe tbody tr th:only-of-type {\n",
       "        vertical-align: middle;\n",
       "    }\n",
       "\n",
       "    .dataframe tbody tr th {\n",
       "        vertical-align: top;\n",
       "    }\n",
       "\n",
       "    .dataframe thead th {\n",
       "        text-align: right;\n",
       "    }\n",
       "</style>\n",
       "<table border=\"1\" class=\"dataframe\">\n",
       "  <thead>\n",
       "    <tr style=\"text-align: right;\">\n",
       "      <th></th>\n",
       "      <th>epoch</th>\n",
       "      <th>hr</th>\n",
       "      <th>ndcg</th>\n",
       "    </tr>\n",
       "  </thead>\n",
       "  <tbody>\n",
       "    <tr>\n",
       "      <th>0</th>\n",
       "      <td>1</td>\n",
       "      <td>0.136289</td>\n",
       "      <td>0.059283</td>\n",
       "    </tr>\n",
       "    <tr>\n",
       "      <th>1</th>\n",
       "      <td>2</td>\n",
       "      <td>0.183908</td>\n",
       "      <td>0.091696</td>\n",
       "    </tr>\n",
       "    <tr>\n",
       "      <th>2</th>\n",
       "      <td>4</td>\n",
       "      <td>0.333333</td>\n",
       "      <td>0.181329</td>\n",
       "    </tr>\n",
       "    <tr>\n",
       "      <th>3</th>\n",
       "      <td>6</td>\n",
       "      <td>0.413793</td>\n",
       "      <td>0.265572</td>\n",
       "    </tr>\n",
       "    <tr>\n",
       "      <th>4</th>\n",
       "      <td>8</td>\n",
       "      <td>0.517241</td>\n",
       "      <td>0.329939</td>\n",
       "    </tr>\n",
       "  </tbody>\n",
       "</table>\n",
       "</div>"
      ],
      "text/plain": [
       "   epoch        hr      ndcg\n",
       "0      1  0.136289  0.059283\n",
       "1      2  0.183908  0.091696\n",
       "2      4  0.333333  0.181329\n",
       "3      6  0.413793  0.265572\n",
       "4      8  0.517241  0.329939"
      ]
     },
     "metadata": {},
     "output_type": "display_data"
    }
   ],
   "source": [
    "mf = pd.read_csv(\"results/mf_results.csv\")\n",
    "gmf = pd.read_csv(\"results/gmf_results.csv\")\n",
    "neumf = pd.read_csv(\"results/neumf_results.csv\")\n",
    "\n",
    "# Check\n",
    "display(mf.head(), gmf.head(), neumf.head())"
   ]
  },
  {
   "cell_type": "code",
   "execution_count": 8,
   "id": "890c431f",
   "metadata": {},
   "outputs": [
    {
     "data": {
      "image/png": "[encoded data removed]",
      "text/plain": [
       "<Figure size 800x500 with 1 Axes>"
      ]
     },
     "metadata": {},
     "output_type": "display_data"
    }
   ],
   "source": [
    "# Plot HR@10\n",
    "plt.figure(figsize=(8,5))\n",
    "plt.plot(mf[\"epoch\"], mf[\"hr\"], label=\"MF\", marker=\"o\")\n",
    "plt.plot(gmf[\"epoch\"], gmf[\"hr\"], label=\"GMF\", marker=\"s\")\n",
    "plt.plot(neumf[\"epoch\"], neumf[\"hr\"], label=\"NeuMF\", marker=\"^\")\n",
    "plt.xlabel(\"Epochs\"); plt.ylabel(\"HR@10\"); plt.title(\"Hit Ratio Comparison\")\n",
    "plt.legend(); plt.grid(True, linestyle=\"--\", alpha=0.6); plt.show()"
   ]
  },
  {
   "cell_type": "code",
   "execution_count": 9,
   "id": "68cff9fa",
   "metadata": {},
   "outputs": [
    {
     "data": {
      "image/png": "[encoded data removed]",
      "text/plain": [
       "<Figure size 800x500 with 1 Axes>"
      ]
     },
     "metadata": {},
     "output_type": "display_data"
    }
   ],
   "source": [
    "plt.figure(figsize=(8,5))\n",
    "plt.plot(mf[\"epoch\"], mf[\"ndcg\"], label=\"MF\", marker=\"o\")\n",
    "plt.plot(gmf[\"epoch\"], gmf[\"ndcg\"], label=\"GMF\", marker=\"s\")\n",
    "plt.plot(neumf[\"epoch\"], neumf[\"ndcg\"], label=\"NeuMF\", marker=\"^\")\n",
    "plt.xlabel(\"Epochs\"); plt.ylabel(\"NDCG@10\"); plt.title(\"NDCG Comparison\")\n",
    "plt.legend(); plt.grid(True, linestyle=\"--\", alpha=0.6); plt.show()"
   ]
  },
  {
   "cell_type": "code",
   "execution_count": 10,
   "id": "36bb4364",
   "metadata": {},
   "outputs": [
    {
     "data": {
      "text/html": [
       "<div>\n",
       "<style scoped>\n",
       "    .dataframe tbody tr th:only-of-type {\n",
       "        vertical-align: middle;\n",
       "    }\n",
       "\n",
       "    .dataframe tbody tr th {\n",
       "        vertical-align: top;\n",
       "    }\n",
       "\n",
       "    .dataframe thead th {\n",
       "        text-align: right;\n",
       "    }\n",
       "</style>\n",
       "<table border=\"1\" class=\"dataframe\">\n",
       "  <thead>\n",
       "    <tr style=\"text-align: right;\">\n",
       "      <th></th>\n",
       "      <th>Model</th>\n",
       "      <th>Best HR@10</th>\n",
       "      <th>Best NDCG@10</th>\n",
       "    </tr>\n",
       "  </thead>\n",
       "  <tbody>\n",
       "    <tr>\n",
       "      <th>0</th>\n",
       "      <td>MF</td>\n",
       "      <td>0.139573</td>\n",
       "      <td>0.063283</td>\n",
       "    </tr>\n",
       "    <tr>\n",
       "      <th>1</th>\n",
       "      <td>GMF</td>\n",
       "      <td>0.144499</td>\n",
       "      <td>0.069946</td>\n",
       "    </tr>\n",
       "    <tr>\n",
       "      <th>2</th>\n",
       "      <td>NeuMF</td>\n",
       "      <td>0.694581</td>\n",
       "      <td>0.470486</td>\n",
       "    </tr>\n",
       "  </tbody>\n",
       "</table>\n",
       "</div>"
      ],
      "text/plain": [
       "   Model  Best HR@10  Best NDCG@10\n",
       "0     MF    0.139573      0.063283\n",
       "1    GMF    0.144499      0.069946\n",
       "2  NeuMF    0.694581      0.470486"
      ]
     },
     "metadata": {},
     "output_type": "display_data"
    }
   ],
   "source": [
    "# Final table\n",
    "summary = pd.DataFrame({\n",
    "    \"Model\": [\"MF\", \"GMF\", \"NeuMF\"],\n",
    "    \"Best HR@10\": [mf[\"hr\"].max(), gmf[\"hr\"].max(), neumf[\"hr\"].max()],\n",
    "    \"Best NDCG@10\": [mf[\"ndcg\"].max(), gmf[\"ndcg\"].max(), neumf[\"ndcg\"].max()]\n",
    "})\n",
    "display(summary)"
   ]
  }
 ],
 "metadata": {
  "kernelspec": {
   "display_name": "myenv",
   "language": "python",
   "name": "python3"
  },
  "language_info": {
   "codemirror_mode": {
    "name": "ipython",
    "version": 3
   },
   "file_extension": ".py",
   "mimetype": "text/x-python",
   "name": "python",
   "nbconvert_exporter": "python",
   "pygments_lexer": "ipython3",
   "version": "3.9.6"
  }
 },
 "nbformat": 4,
 "nbformat_minor": 5
}

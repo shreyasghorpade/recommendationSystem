{
 "cells": [
  {
   "cell_type": "code",
   "execution_count": 11,
   "id": "7bc3238f",
   "metadata": {},
   "outputs": [
    {
     "name": "stdout",
     "output_type": "stream",
     "text": [
      "Using device: cpu\n"
     ]
    }
   ],
   "source": [
    "import math, random\n",
    "import numpy as np\n",
    "import pandas as pd\n",
    "import torch\n",
    "import torch.nn as nn\n",
    "import random\n",
    "import matplotlib.pyplot as plt\n",
    "\n",
    "device = torch.device(\"cuda\" if torch.cuda.is_available() else \"cpu\")\n",
    "print(\"Using device:\", device)"
   ]
  },
  {
   "cell_type": "code",
   "execution_count": 12,
   "id": "974802d6",
   "metadata": {},
   "outputs": [],
   "source": [
    "from models.models import MF_Implicit, GMF_Implicit, NeuMF\n",
    "from evaluation.utils import prepare_dataset, sample_train_batch\n",
    "from evaluation.metrics import eval_hr_ndcg"
   ]
  },
  {
   "cell_type": "code",
   "execution_count": 13,
   "id": "29767199",
   "metadata": {},
   "outputs": [
    {
     "name": "stderr",
     "output_type": "stream",
     "text": [
      "/Users/shreyasghorpade/Desktop/Projects/recommendationsystem/recommendationSystem/evaluation/utils.py:27: FutureWarning: DataFrameGroupBy.apply operated on the grouping columns. This behavior is deprecated, and in a future version of pandas the grouping columns will be excluded from the operation. Either pass `include_groups=False` to exclude the groupings or explicitly select the grouping columns after groupby to silence this warning.\n",
      "  test_idx = pos.groupby(\"userId\", group_keys=False).apply(\n"
     ]
    }
   ],
   "source": [
    "n_users, n_items, test_df, train_df, train_ui = prepare_dataset(\"./data/ratings_reindexed.csv\")"
   ]
  },
  {
   "cell_type": "code",
   "execution_count": 14,
   "id": "6b9d41fd",
   "metadata": {},
   "outputs": [
    {
     "name": "stdout",
     "output_type": "stream",
     "text": [
      "Epoch 01 | Loss: 0.6931 | HR@10: 0.1018 | NDCG@10: 0.0477\n",
      "Epoch 02 | Loss: 0.6931 | HR@10: 0.1051 | NDCG@10: 0.0488\n",
      "Epoch 04 | Loss: 0.6932 | HR@10: 0.1034 | NDCG@10: 0.0508\n",
      "Epoch 06 | Loss: 0.6931 | HR@10: 0.1100 | NDCG@10: 0.0520\n",
      "Epoch 08 | Loss: 0.6931 | HR@10: 0.1002 | NDCG@10: 0.0494\n",
      "Epoch 10 | Loss: 0.6931 | HR@10: 0.0985 | NDCG@10: 0.0497\n",
      "Epoch 12 | Loss: 0.6931 | HR@10: 0.1051 | NDCG@10: 0.0531\n",
      "Epoch 14 | Loss: 0.6931 | HR@10: 0.1051 | NDCG@10: 0.0522\n",
      "Epoch 16 | Loss: 0.6931 | HR@10: 0.1166 | NDCG@10: 0.0552\n",
      "Epoch 18 | Loss: 0.6931 | HR@10: 0.1248 | NDCG@10: 0.0576\n",
      "Epoch 20 | Loss: 0.6931 | HR@10: 0.1248 | NDCG@10: 0.0584\n",
      "Epoch 22 | Loss: 0.6931 | HR@10: 0.1346 | NDCG@10: 0.0642\n",
      "Epoch 24 | Loss: 0.6931 | HR@10: 0.1429 | NDCG@10: 0.0675\n",
      "Epoch 26 | Loss: 0.6931 | HR@10: 0.1494 | NDCG@10: 0.0724\n",
      "Epoch 28 | Loss: 0.6931 | HR@10: 0.1478 | NDCG@10: 0.0734\n",
      "Epoch 30 | Loss: 0.6931 | HR@10: 0.1527 | NDCG@10: 0.0743\n"
     ]
    }
   ],
   "source": [
    "# Training MF implicit Model\n",
    "\n",
    "model_mf = MF_Implicit(n_users, n_items, k=32).to(device)\n",
    "criterion = nn.BCEWithLogitsLoss()\n",
    "optimizer = torch.optim.Adam(model_mf.parameters(), lr=8e-4, weight_decay=1e-6)\n",
    "\n",
    "epochs = 30\n",
    "results_mf = []\n",
    "for e in range(1, epochs+1):\n",
    "    model_mf.train()\n",
    "    U,I,Y = sample_train_batch(train_df, n_items, train_ui, num_neg=4)\n",
    "    U,I,Y = U.to(device), I.to(device), Y.to(device)\n",
    "    optimizer.zero_grad()\n",
    "    loss = criterion(model_mf(U,I), Y); loss.backward(); optimizer.step()\n",
    "\n",
    "    if e==1 or e%2==0:\n",
    "        hr, ndcg = eval_hr_ndcg(model_mf, test_df, train_ui, n_items, k=10, n_neg=100, device=device)\n",
    "        print(f\"Epoch {e:02d} | Loss: {loss.item():.4f} | HR@10: {hr:.4f} | NDCG@10: {ndcg:.4f}\")\n",
    "        results_mf.append({\"epoch\": e, \"hr\": hr, \"ndcg\": ndcg})\n",
    "        \n",
    "pd.DataFrame(results_mf).to_csv(\"results/mf_results.csv\", index=False)\n",
    "torch.save(model_mf.state_dict(), \"results/mf_model.pth\")"
   ]
  },
  {
   "cell_type": "code",
   "execution_count": 15,
   "id": "5c9621e6",
   "metadata": {},
   "outputs": [
    {
     "name": "stdout",
     "output_type": "stream",
     "text": [
      "Epoch 01 | Loss: 0.6931 | HR@10: 0.0936 | NDCG@10: 0.0392\n",
      "Epoch 02 | Loss: 0.6929 | HR@10: 0.0969 | NDCG@10: 0.0402\n",
      "Epoch 04 | Loss: 0.6924 | HR@10: 0.1051 | NDCG@10: 0.0442\n",
      "Epoch 06 | Loss: 0.6919 | HR@10: 0.1051 | NDCG@10: 0.0456\n",
      "Epoch 08 | Loss: 0.6915 | HR@10: 0.1117 | NDCG@10: 0.0476\n",
      "Epoch 10 | Loss: 0.6910 | HR@10: 0.1084 | NDCG@10: 0.0475\n",
      "Epoch 12 | Loss: 0.6905 | HR@10: 0.1166 | NDCG@10: 0.0512\n",
      "Epoch 14 | Loss: 0.6900 | HR@10: 0.1182 | NDCG@10: 0.0532\n",
      "Epoch 16 | Loss: 0.6896 | HR@10: 0.1297 | NDCG@10: 0.0578\n",
      "Epoch 18 | Loss: 0.6891 | HR@10: 0.1248 | NDCG@10: 0.0575\n",
      "Epoch 20 | Loss: 0.6886 | HR@10: 0.1248 | NDCG@10: 0.0594\n",
      "Epoch 22 | Loss: 0.6881 | HR@10: 0.1330 | NDCG@10: 0.0629\n",
      "Epoch 24 | Loss: 0.6877 | HR@10: 0.1363 | NDCG@10: 0.0654\n",
      "Epoch 26 | Loss: 0.6872 | HR@10: 0.1330 | NDCG@10: 0.0657\n",
      "Epoch 28 | Loss: 0.6867 | HR@10: 0.1396 | NDCG@10: 0.0693\n",
      "Epoch 30 | Loss: 0.6863 | HR@10: 0.1527 | NDCG@10: 0.0742\n"
     ]
    }
   ],
   "source": [
    "model_gmf = GMF_Implicit(n_users, n_items, k=32).to(device)\n",
    "criterion = nn.BCEWithLogitsLoss()\n",
    "optimizer = torch.optim.Adam(model_gmf.parameters(), lr=8e-4, weight_decay=1e-6)\n",
    "\n",
    "epochs = 30\n",
    "results_gmf = []\n",
    "for e in range(1, epochs+1):\n",
    "    model_gmf.train()\n",
    "    U,I,Y = sample_train_batch(train_df, n_items, train_ui, num_neg=4)\n",
    "    U,I,Y = U.to(device), I.to(device), Y.to(device)\n",
    "    optimizer.zero_grad()\n",
    "    loss = criterion(model_gmf(U,I), Y); loss.backward(); optimizer.step()\n",
    "\n",
    "    if e==1 or e%2==0:\n",
    "        hr, ndcg = eval_hr_ndcg(model_gmf, test_df, train_ui, n_items, k=10, n_neg=100, device=device)\n",
    "        print(f\"Epoch {e:02d} | Loss: {loss.item():.4f} | HR@10: {hr:.4f} | NDCG@10: {ndcg:.4f}\")\n",
    "        results_gmf.append({\"epoch\": e, \"hr\": hr, \"ndcg\": ndcg})\n",
    "        \n",
    "pd.DataFrame(results_gmf).to_csv(\"results/gmf_results.csv\", index=False)\n",
    "torch.save(model_gmf.state_dict(), \"results/gmf_model.pth\")"
   ]
  },
  {
   "cell_type": "code",
   "execution_count": 16,
   "id": "a05acc99",
   "metadata": {},
   "outputs": [
    {
     "name": "stdout",
     "output_type": "stream",
     "text": [
      "Epoch 01 | BCE: 0.6914 | HR@10: 0.1264 | NDCG@10: 0.0605\n",
      "Epoch 02 | BCE: 0.6898 | HR@10: 0.1609 | NDCG@10: 0.0865\n",
      "Epoch 04 | BCE: 0.6865 | HR@10: 0.2841 | NDCG@10: 0.1555\n",
      "Epoch 06 | BCE: 0.6832 | HR@10: 0.4236 | NDCG@10: 0.2464\n",
      "Epoch 08 | BCE: 0.6799 | HR@10: 0.5123 | NDCG@10: 0.3143\n",
      "Epoch 10 | BCE: 0.6768 | HR@10: 0.5632 | NDCG@10: 0.3582\n",
      "Epoch 12 | BCE: 0.6738 | HR@10: 0.6010 | NDCG@10: 0.3859\n",
      "Epoch 14 | BCE: 0.6707 | HR@10: 0.6141 | NDCG@10: 0.3982\n",
      "Epoch 16 | BCE: 0.6681 | HR@10: 0.6223 | NDCG@10: 0.4133\n",
      "Epoch 18 | BCE: 0.6656 | HR@10: 0.6486 | NDCG@10: 0.4305\n",
      "Epoch 20 | BCE: 0.6630 | HR@10: 0.6437 | NDCG@10: 0.4371\n",
      "Epoch 22 | BCE: 0.6604 | HR@10: 0.6470 | NDCG@10: 0.4417\n",
      "Epoch 24 | BCE: 0.6578 | HR@10: 0.6700 | NDCG@10: 0.4534\n",
      "Epoch 26 | BCE: 0.6550 | HR@10: 0.6864 | NDCG@10: 0.4619\n",
      "Epoch 28 | BCE: 0.6522 | HR@10: 0.6962 | NDCG@10: 0.4672\n",
      "Epoch 30 | BCE: 0.6494 | HR@10: 0.7061 | NDCG@10: 0.4753\n"
     ]
    }
   ],
   "source": [
    "model_neumf = NeuMF(n_users, n_items, k_gmf=32, k_mlp=32, mlp_layers=(64,32,16)).to(device)\n",
    "opt = torch.optim.Adam(model_neumf.parameters(), lr=8e-4, weight_decay=1e-6)\n",
    "crit = nn.BCEWithLogitsLoss()\n",
    "\n",
    "epochs = 30\n",
    "results_neumf = []\n",
    "for e in range(1, epochs+1):\n",
    "    model_neumf.train()\n",
    "    # (optional) sample a subset of users each epoch for speed on larger data\n",
    "    batch_users = None\n",
    "    U,I,Y = sample_train_batch(train_df, n_items, train_ui, num_neg=4, users_subset=batch_users)\n",
    "    U,I,Y = U.to(device), I.to(device), Y.to(device)\n",
    "    opt.zero_grad()\n",
    "    loss = crit(model_neumf(U,I), Y); loss.backward(); opt.step()\n",
    "\n",
    "    if e==1 or e%2==0:\n",
    "        hr, ndcg = eval_hr_ndcg(model_neumf, test_df, train_ui, n_items, k=10, n_neg=100, device=device)\n",
    "        print(f\"Epoch {e:02d} | BCE: {loss.item():.4f} | HR@10: {hr:.4f} | NDCG@10: {ndcg:.4f}\")\n",
    "        results_neumf.append({'epoch': e, \"hr\": hr, \"ndcg\":ndcg})\n",
    "        \n",
    "pd.DataFrame(results_neumf).to_csv(\"results/neumf_results.csv\", index=False)\n",
    "torch.save(model_neumf.state_dict(), \"results/neumf_model.pth\")"
   ]
  },
  {
   "cell_type": "code",
   "execution_count": 17,
   "id": "febf914e",
   "metadata": {},
   "outputs": [
    {
     "data": {
      "text/html": [
       "<div>\n",
       "<style scoped>\n",
       "    .dataframe tbody tr th:only-of-type {\n",
       "        vertical-align: middle;\n",
       "    }\n",
       "\n",
       "    .dataframe tbody tr th {\n",
       "        vertical-align: top;\n",
       "    }\n",
       "\n",
       "    .dataframe thead th {\n",
       "        text-align: right;\n",
       "    }\n",
       "</style>\n",
       "<table border=\"1\" class=\"dataframe\">\n",
       "  <thead>\n",
       "    <tr style=\"text-align: right;\">\n",
       "      <th></th>\n",
       "      <th>epoch</th>\n",
       "      <th>hr</th>\n",
       "      <th>ndcg</th>\n",
       "    </tr>\n",
       "  </thead>\n",
       "  <tbody>\n",
       "    <tr>\n",
       "      <th>0</th>\n",
       "      <td>1</td>\n",
       "      <td>0.101806</td>\n",
       "      <td>0.047657</td>\n",
       "    </tr>\n",
       "    <tr>\n",
       "      <th>1</th>\n",
       "      <td>2</td>\n",
       "      <td>0.105090</td>\n",
       "      <td>0.048822</td>\n",
       "    </tr>\n",
       "    <tr>\n",
       "      <th>2</th>\n",
       "      <td>4</td>\n",
       "      <td>0.103448</td>\n",
       "      <td>0.050753</td>\n",
       "    </tr>\n",
       "    <tr>\n",
       "      <th>3</th>\n",
       "      <td>6</td>\n",
       "      <td>0.110016</td>\n",
       "      <td>0.052000</td>\n",
       "    </tr>\n",
       "    <tr>\n",
       "      <th>4</th>\n",
       "      <td>8</td>\n",
       "      <td>0.100164</td>\n",
       "      <td>0.049396</td>\n",
       "    </tr>\n",
       "  </tbody>\n",
       "</table>\n",
       "</div>"
      ],
      "text/plain": [
       "   epoch        hr      ndcg\n",
       "0      1  0.101806  0.047657\n",
       "1      2  0.105090  0.048822\n",
       "2      4  0.103448  0.050753\n",
       "3      6  0.110016  0.052000\n",
       "4      8  0.100164  0.049396"
      ]
     },
     "metadata": {},
     "output_type": "display_data"
    },
    {
     "data": {
      "text/html": [
       "<div>\n",
       "<style scoped>\n",
       "    .dataframe tbody tr th:only-of-type {\n",
       "        vertical-align: middle;\n",
       "    }\n",
       "\n",
       "    .dataframe tbody tr th {\n",
       "        vertical-align: top;\n",
       "    }\n",
       "\n",
       "    .dataframe thead th {\n",
       "        text-align: right;\n",
       "    }\n",
       "</style>\n",
       "<table border=\"1\" class=\"dataframe\">\n",
       "  <thead>\n",
       "    <tr style=\"text-align: right;\">\n",
       "      <th></th>\n",
       "      <th>epoch</th>\n",
       "      <th>hr</th>\n",
       "      <th>ndcg</th>\n",
       "    </tr>\n",
       "  </thead>\n",
       "  <tbody>\n",
       "    <tr>\n",
       "      <th>0</th>\n",
       "      <td>1</td>\n",
       "      <td>0.093596</td>\n",
       "      <td>0.039179</td>\n",
       "    </tr>\n",
       "    <tr>\n",
       "      <th>1</th>\n",
       "      <td>2</td>\n",
       "      <td>0.096880</td>\n",
       "      <td>0.040208</td>\n",
       "    </tr>\n",
       "    <tr>\n",
       "      <th>2</th>\n",
       "      <td>4</td>\n",
       "      <td>0.105090</td>\n",
       "      <td>0.044244</td>\n",
       "    </tr>\n",
       "    <tr>\n",
       "      <th>3</th>\n",
       "      <td>6</td>\n",
       "      <td>0.105090</td>\n",
       "      <td>0.045615</td>\n",
       "    </tr>\n",
       "    <tr>\n",
       "      <th>4</th>\n",
       "      <td>8</td>\n",
       "      <td>0.111658</td>\n",
       "      <td>0.047646</td>\n",
       "    </tr>\n",
       "  </tbody>\n",
       "</table>\n",
       "</div>"
      ],
      "text/plain": [
       "   epoch        hr      ndcg\n",
       "0      1  0.093596  0.039179\n",
       "1      2  0.096880  0.040208\n",
       "2      4  0.105090  0.044244\n",
       "3      6  0.105090  0.045615\n",
       "4      8  0.111658  0.047646"
      ]
     },
     "metadata": {},
     "output_type": "display_data"
    },
    {
     "data": {
      "text/html": [
       "<div>\n",
       "<style scoped>\n",
       "    .dataframe tbody tr th:only-of-type {\n",
       "        vertical-align: middle;\n",
       "    }\n",
       "\n",
       "    .dataframe tbody tr th {\n",
       "        vertical-align: top;\n",
       "    }\n",
       "\n",
       "    .dataframe thead th {\n",
       "        text-align: right;\n",
       "    }\n",
       "</style>\n",
       "<table border=\"1\" class=\"dataframe\">\n",
       "  <thead>\n",
       "    <tr style=\"text-align: right;\">\n",
       "      <th></th>\n",
       "      <th>epoch</th>\n",
       "      <th>hr</th>\n",
       "      <th>ndcg</th>\n",
       "    </tr>\n",
       "  </thead>\n",
       "  <tbody>\n",
       "    <tr>\n",
       "      <th>0</th>\n",
       "      <td>1</td>\n",
       "      <td>0.126437</td>\n",
       "      <td>0.060541</td>\n",
       "    </tr>\n",
       "    <tr>\n",
       "      <th>1</th>\n",
       "      <td>2</td>\n",
       "      <td>0.160920</td>\n",
       "      <td>0.086488</td>\n",
       "    </tr>\n",
       "    <tr>\n",
       "      <th>2</th>\n",
       "      <td>4</td>\n",
       "      <td>0.284072</td>\n",
       "      <td>0.155461</td>\n",
       "    </tr>\n",
       "    <tr>\n",
       "      <th>3</th>\n",
       "      <td>6</td>\n",
       "      <td>0.423645</td>\n",
       "      <td>0.246432</td>\n",
       "    </tr>\n",
       "    <tr>\n",
       "      <th>4</th>\n",
       "      <td>8</td>\n",
       "      <td>0.512315</td>\n",
       "      <td>0.314265</td>\n",
       "    </tr>\n",
       "  </tbody>\n",
       "</table>\n",
       "</div>"
      ],
      "text/plain": [
       "   epoch        hr      ndcg\n",
       "0      1  0.126437  0.060541\n",
       "1      2  0.160920  0.086488\n",
       "2      4  0.284072  0.155461\n",
       "3      6  0.423645  0.246432\n",
       "4      8  0.512315  0.314265"
      ]
     },
     "metadata": {},
     "output_type": "display_data"
    }
   ],
   "source": [
    "mf = pd.read_csv(\"results/mf_results.csv\")\n",
    "gmf = pd.read_csv(\"results/gmf_results.csv\")\n",
    "neumf = pd.read_csv(\"results/neumf_results.csv\")\n",
    "\n",
    "# Check\n",
    "display(mf.head(), gmf.head(), neumf.head())"
   ]
  },
  {
   "cell_type": "code",
   "execution_count": 18,
   "id": "890c431f",
   "metadata": {},
   "outputs": [
    {
     "data": {
      "image/png": "[encoded data removed]",
      "text/plain": [
       "<Figure size 800x500 with 1 Axes>"
      ]
     },
     "metadata": {},
     "output_type": "display_data"
    }
   ],
   "source": [
    "# Plot HR@10\n",
    "plt.figure(figsize=(8,5))\n",
    "plt.plot(mf[\"epoch\"], mf[\"hr\"], label=\"MF\", marker=\"o\")\n",
    "plt.plot(gmf[\"epoch\"], gmf[\"hr\"], label=\"GMF\", marker=\"s\")\n",
    "plt.plot(neumf[\"epoch\"], neumf[\"hr\"], label=\"NeuMF\", marker=\"^\")\n",
    "plt.xlabel(\"Epochs\"); plt.ylabel(\"HR@10\"); plt.title(\"Hit Ratio Comparison\")\n",
    "plt.legend(); plt.grid(True, linestyle=\"--\", alpha=0.6); plt.show()"
   ]
  },
  {
   "cell_type": "code",
   "execution_count": 19,
   "id": "68cff9fa",
   "metadata": {},
   "outputs": [
    {
     "data": {
      "image/png": "[encoded data removed]",
      "text/plain": [
       "<Figure size 800x500 with 1 Axes>"
      ]
     },
     "metadata": {},
     "output_type": "display_data"
    }
   ],
   "source": [
    "plt.figure(figsize=(8,5))\n",
    "plt.plot(mf[\"epoch\"], mf[\"ndcg\"], label=\"MF\", marker=\"o\")\n",
    "plt.plot(gmf[\"epoch\"], gmf[\"ndcg\"], label=\"GMF\", marker=\"s\")\n",
    "plt.plot(neumf[\"epoch\"], neumf[\"ndcg\"], label=\"NeuMF\", marker=\"^\")\n",
    "plt.xlabel(\"Epochs\"); plt.ylabel(\"NDCG@10\"); plt.title(\"NDCG Comparison\")\n",
    "plt.legend(); plt.grid(True, linestyle=\"--\", alpha=0.6); plt.show()"
   ]
  },
  {
   "cell_type": "code",
   "execution_count": 20,
   "id": "36bb4364",
   "metadata": {},
   "outputs": [
    {
     "data": {
      "text/html": [
       "<div>\n",
       "<style scoped>\n",
       "    .dataframe tbody tr th:only-of-type {\n",
       "        vertical-align: middle;\n",
       "    }\n",
       "\n",
       "    .dataframe tbody tr th {\n",
       "        vertical-align: top;\n",
       "    }\n",
       "\n",
       "    .dataframe thead th {\n",
       "        text-align: right;\n",
       "    }\n",
       "</style>\n",
       "<table border=\"1\" class=\"dataframe\">\n",
       "  <thead>\n",
       "    <tr style=\"text-align: right;\">\n",
       "      <th></th>\n",
       "      <th>Model</th>\n",
       "      <th>Best HR@10</th>\n",
       "      <th>Best NDCG@10</th>\n",
       "    </tr>\n",
       "  </thead>\n",
       "  <tbody>\n",
       "    <tr>\n",
       "      <th>0</th>\n",
       "      <td>MF</td>\n",
       "      <td>0.152709</td>\n",
       "      <td>0.074315</td>\n",
       "    </tr>\n",
       "    <tr>\n",
       "      <th>1</th>\n",
       "      <td>GMF</td>\n",
       "      <td>0.152709</td>\n",
       "      <td>0.074196</td>\n",
       "    </tr>\n",
       "    <tr>\n",
       "      <th>2</th>\n",
       "      <td>NeuMF</td>\n",
       "      <td>0.706076</td>\n",
       "      <td>0.475340</td>\n",
       "    </tr>\n",
       "  </tbody>\n",
       "</table>\n",
       "</div>"
      ],
      "text/plain": [
       "   Model  Best HR@10  Best NDCG@10\n",
       "0     MF    0.152709      0.074315\n",
       "1    GMF    0.152709      0.074196\n",
       "2  NeuMF    0.706076      0.475340"
      ]
     },
     "metadata": {},
     "output_type": "display_data"
    }
   ],
   "source": [
    "# Final table\n",
    "summary = pd.DataFrame({\n",
    "    \"Model\": [\"MF\", \"GMF\", \"NeuMF\"],\n",
    "    \"Best HR@10\": [mf[\"hr\"].max(), gmf[\"hr\"].max(), neumf[\"hr\"].max()],\n",
    "    \"Best NDCG@10\": [mf[\"ndcg\"].max(), gmf[\"ndcg\"].max(), neumf[\"ndcg\"].max()]\n",
    "})\n",
    "display(summary)"
   ]
  }
 ],
 "metadata": {
  "kernelspec": {
   "display_name": "myenv",
   "language": "python",
   "name": "python3"
  },
  "language_info": {
   "codemirror_mode": {
    "name": "ipython",
    "version": 3
   },
   "file_extension": ".py",
   "mimetype": "text/x-python",
   "name": "python",
   "nbconvert_exporter": "python",
   "pygments_lexer": "ipython3",
   "version": "3.9.6"
  }
 },
 "nbformat": 4,
 "nbformat_minor": 5
}

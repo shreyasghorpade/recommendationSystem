{
 "cells": [
  {
   "cell_type": "code",
   "execution_count": null,
   "id": "20f0dd40",
   "metadata": {},
   "outputs": [],
   "source": [
    "print(\"Before we personalize your recommendations, please like or dislike at least 4 movies.\\n\")\n",
    "\n",
    "# Load data\n",
    "ratings_df = pd.read_csv(RATINGS_PATH)\n",
    "rev_movieids = pd.read_csv(REV_IIDS_PATH)  # columns: original_movieId, reindexed_movieId, title, genres\n",
    "\n",
    "# Find most popular (most-interacted) movies\n",
    "top_movies = (\n",
    "    ratings_df.groupby(\"movieId\")\n",
    "    .agg(avg_rating=(\"rating\", \"mean\"), num_ratings=(\"rating\", \"count\"))\n",
    "    .sort_values(\"num_ratings\", ascending=False)\n",
    "    .head(20)\n",
    "    .reset_index()\n",
    ")\n",
    "\n",
    "# Merge with rev_movieids to get titles/genres\n",
    "top_movies = top_movies.merge(\n",
    "    rev_movieids,\n",
    "    left_on=\"movieId\",\n",
    "    right_on=\"reindexed_movieId\",\n",
    "    how=\"left\"\n",
    ")[[\"reindexed_movieId\", \"title\", \"genres\", \"avg_rating\", \"num_ratings\"]].dropna(subset=[\"title\"]).reset_index(drop=True)\n",
    "\n",
    "top_movies"
   ]
  },
  {
   "cell_type": "code",
   "execution_count": null,
   "id": "b4981995",
   "metadata": {},
   "outputs": [],
   "source": [
    "RATINGS_PATH   = os.path.join(DATA_DIR, \"ratings_reindexed.csv\")\n",
    "REV_IIDS_PATH  = os.path.join(DATA_DIR, \"rev_movieids.csv\")\n",
    "\n",
    "def suggest_movies():\n",
    "\n",
    "    ratings_df = pd.read_csv(RATINGS_PATH)\n",
    "    rev_movieids = pd.read_csv(REV_IIDS_PATH)  \n",
    "\n",
    "    top_movies = (\n",
    "        ratings_df.groupby(\"movieId\")\n",
    "        .agg(avg_rating=(\"rating\", \"mean\"), num_ratings=(\"rating\", \"count\"))\n",
    "        .sort_values(\"num_ratings\", ascending=False)\n",
    "        .head(20)\n",
    "        .reset_index()\n",
    "    )\n",
    "\n",
    "    # Merge with rev_movieids to get titles/genres\n",
    "    top_movies = top_movies.merge(\n",
    "        rev_movieids,\n",
    "        left_on=\"movieId\",\n",
    "        right_on=\"reindexed_movieId\",\n",
    "        how=\"left\"\n",
    "    )[[\"reindexed_movieId\", \"title\", \"genres\", \"avg_rating\", \"num_ratings\"]].dropna(subset=[\"title\"]).reset_index(drop=True)\n",
    "    \n",
    "    return top_movies\n"
   ]
  },
  {
   "cell_type": "code",
   "execution_count": null,
   "id": "33c32acd",
   "metadata": {},
   "outputs": [],
   "source": []
  },
  {
   "cell_type": "code",
   "execution_count": null,
   "id": "d16caadb",
   "metadata": {},
   "outputs": [],
   "source": []
  }
 ],
 "metadata": {
  "kernelspec": {
   "display_name": "myenv",
   "language": "python",
   "name": "python3"
  },
  "language_info": {
   "codemirror_mode": {
    "name": "ipython",
    "version": 3
   },
   "file_extension": ".py",
   "mimetype": "text/x-python",
   "name": "python",
   "nbconvert_exporter": "python",
   "pygments_lexer": "ipython3",
   "version": "3.9.6"
  }
 },
 "nbformat": 4,
 "nbformat_minor": 5
}

{
 "cells": [
  {
   "cell_type": "code",
   "execution_count": 83,
   "id": "84508fce",
   "metadata": {},
   "outputs": [],
   "source": [
    "import pandas as pd\n",
    "import numpy as np\n",
    "from sklearn.model_selection import train_test_split"
   ]
  },
  {
   "cell_type": "code",
   "execution_count": 84,
   "id": "b726f304",
   "metadata": {},
   "outputs": [],
   "source": [
    "movieData = pd.read_csv(\"data/ratings.csv\")\n",
    "movieData.drop(\"timestamp\", axis = 1, inplace=True)\n",
    "moviesMapping = pd.read_csv(\"data/movies.csv\")"
   ]
  },
  {
   "cell_type": "code",
   "execution_count": 85,
   "id": "91ff746a",
   "metadata": {},
   "outputs": [
    {
     "data": {
      "text/html": [
       "<div>\n",
       "<style scoped>\n",
       "    .dataframe tbody tr th:only-of-type {\n",
       "        vertical-align: middle;\n",
       "    }\n",
       "\n",
       "    .dataframe tbody tr th {\n",
       "        vertical-align: top;\n",
       "    }\n",
       "\n",
       "    .dataframe thead th {\n",
       "        text-align: right;\n",
       "    }\n",
       "</style>\n",
       "<table border=\"1\" class=\"dataframe\">\n",
       "  <thead>\n",
       "    <tr style=\"text-align: right;\">\n",
       "      <th></th>\n",
       "      <th>userId</th>\n",
       "      <th>movieId</th>\n",
       "      <th>rating</th>\n",
       "    </tr>\n",
       "  </thead>\n",
       "  <tbody>\n",
       "    <tr>\n",
       "      <th>0</th>\n",
       "      <td>1</td>\n",
       "      <td>1</td>\n",
       "      <td>4.0</td>\n",
       "    </tr>\n",
       "    <tr>\n",
       "      <th>1</th>\n",
       "      <td>1</td>\n",
       "      <td>3</td>\n",
       "      <td>4.0</td>\n",
       "    </tr>\n",
       "    <tr>\n",
       "      <th>2</th>\n",
       "      <td>1</td>\n",
       "      <td>6</td>\n",
       "      <td>4.0</td>\n",
       "    </tr>\n",
       "    <tr>\n",
       "      <th>3</th>\n",
       "      <td>1</td>\n",
       "      <td>47</td>\n",
       "      <td>5.0</td>\n",
       "    </tr>\n",
       "    <tr>\n",
       "      <th>4</th>\n",
       "      <td>1</td>\n",
       "      <td>50</td>\n",
       "      <td>5.0</td>\n",
       "    </tr>\n",
       "    <tr>\n",
       "      <th>5</th>\n",
       "      <td>1</td>\n",
       "      <td>70</td>\n",
       "      <td>3.0</td>\n",
       "    </tr>\n",
       "    <tr>\n",
       "      <th>6</th>\n",
       "      <td>1</td>\n",
       "      <td>101</td>\n",
       "      <td>5.0</td>\n",
       "    </tr>\n",
       "    <tr>\n",
       "      <th>7</th>\n",
       "      <td>1</td>\n",
       "      <td>110</td>\n",
       "      <td>4.0</td>\n",
       "    </tr>\n",
       "    <tr>\n",
       "      <th>8</th>\n",
       "      <td>1</td>\n",
       "      <td>151</td>\n",
       "      <td>5.0</td>\n",
       "    </tr>\n",
       "    <tr>\n",
       "      <th>9</th>\n",
       "      <td>1</td>\n",
       "      <td>157</td>\n",
       "      <td>5.0</td>\n",
       "    </tr>\n",
       "  </tbody>\n",
       "</table>\n",
       "</div>"
      ],
      "text/plain": [
       "   userId  movieId  rating\n",
       "0       1        1     4.0\n",
       "1       1        3     4.0\n",
       "2       1        6     4.0\n",
       "3       1       47     5.0\n",
       "4       1       50     5.0\n",
       "5       1       70     3.0\n",
       "6       1      101     5.0\n",
       "7       1      110     4.0\n",
       "8       1      151     5.0\n",
       "9       1      157     5.0"
      ]
     },
     "execution_count": 85,
     "metadata": {},
     "output_type": "execute_result"
    }
   ],
   "source": [
    "movieData.head(10)"
   ]
  },
  {
   "cell_type": "code",
   "execution_count": 86,
   "id": "e5f05785",
   "metadata": {},
   "outputs": [
    {
     "data": {
      "text/html": [
       "<div>\n",
       "<style scoped>\n",
       "    .dataframe tbody tr th:only-of-type {\n",
       "        vertical-align: middle;\n",
       "    }\n",
       "\n",
       "    .dataframe tbody tr th {\n",
       "        vertical-align: top;\n",
       "    }\n",
       "\n",
       "    .dataframe thead th {\n",
       "        text-align: right;\n",
       "    }\n",
       "</style>\n",
       "<table border=\"1\" class=\"dataframe\">\n",
       "  <thead>\n",
       "    <tr style=\"text-align: right;\">\n",
       "      <th></th>\n",
       "      <th>movieId</th>\n",
       "      <th>title</th>\n",
       "      <th>genres</th>\n",
       "    </tr>\n",
       "  </thead>\n",
       "  <tbody>\n",
       "    <tr>\n",
       "      <th>0</th>\n",
       "      <td>1</td>\n",
       "      <td>Toy Story (1995)</td>\n",
       "      <td>Adventure|Animation|Children|Comedy|Fantasy</td>\n",
       "    </tr>\n",
       "    <tr>\n",
       "      <th>1</th>\n",
       "      <td>2</td>\n",
       "      <td>Jumanji (1995)</td>\n",
       "      <td>Adventure|Children|Fantasy</td>\n",
       "    </tr>\n",
       "    <tr>\n",
       "      <th>2</th>\n",
       "      <td>3</td>\n",
       "      <td>Grumpier Old Men (1995)</td>\n",
       "      <td>Comedy|Romance</td>\n",
       "    </tr>\n",
       "    <tr>\n",
       "      <th>3</th>\n",
       "      <td>4</td>\n",
       "      <td>Waiting to Exhale (1995)</td>\n",
       "      <td>Comedy|Drama|Romance</td>\n",
       "    </tr>\n",
       "    <tr>\n",
       "      <th>4</th>\n",
       "      <td>5</td>\n",
       "      <td>Father of the Bride Part II (1995)</td>\n",
       "      <td>Comedy</td>\n",
       "    </tr>\n",
       "  </tbody>\n",
       "</table>\n",
       "</div>"
      ],
      "text/plain": [
       "   movieId                               title  \\\n",
       "0        1                    Toy Story (1995)   \n",
       "1        2                      Jumanji (1995)   \n",
       "2        3             Grumpier Old Men (1995)   \n",
       "3        4            Waiting to Exhale (1995)   \n",
       "4        5  Father of the Bride Part II (1995)   \n",
       "\n",
       "                                        genres  \n",
       "0  Adventure|Animation|Children|Comedy|Fantasy  \n",
       "1                   Adventure|Children|Fantasy  \n",
       "2                               Comedy|Romance  \n",
       "3                         Comedy|Drama|Romance  \n",
       "4                                       Comedy  "
      ]
     },
     "execution_count": 86,
     "metadata": {},
     "output_type": "execute_result"
    }
   ],
   "source": [
    "moviesMapping.head(5)"
   ]
  },
  {
   "cell_type": "code",
   "execution_count": 87,
   "id": "57c65ada",
   "metadata": {},
   "outputs": [
    {
     "name": "stdout",
     "output_type": "stream",
     "text": [
      "9724\n",
      "9742\n",
      "610\n"
     ]
    }
   ],
   "source": [
    "# Checking how many unique movie ID are present actually and in the dataframe we have\n",
    "unqInDf = set(movieData[\"movieId\"].unique())\n",
    "unqIndata = set(moviesMapping[\"movieId\"].unique())\n",
    "\n",
    "print(movieData[\"movieId\"].nunique())\n",
    "print(moviesMapping[\"movieId\"].nunique())\n",
    "print(movieData[\"userId\"].nunique())\n"
   ]
  },
  {
   "cell_type": "code",
   "execution_count": 88,
   "id": "2ead0110",
   "metadata": {},
   "outputs": [
    {
     "name": "stdout",
     "output_type": "stream",
     "text": [
      "18\n",
      "[np.int64(1076), np.int64(34482), np.int64(2939), np.int64(3338), np.int64(3456), np.int64(4194), np.int64(5721), np.int64(6668), np.int64(6849), np.int64(7020), np.int64(7792), np.int64(8765), np.int64(85565), np.int64(25855), np.int64(26085), np.int64(30892), np.int64(32160), np.int64(32371)]\n"
     ]
    }
   ],
   "source": [
    "# Here I am just checking which of the movies are present in movies.csv but are not present in the rating.csv\n",
    "\n",
    "notPresent = []\n",
    "for movie in unqIndata:\n",
    "    if movie not in unqInDf:\n",
    "        notPresent.append(movie)\n",
    "        \n",
    "print(len(notPresent))\n",
    "print(notPresent)\n",
    "        "
   ]
  },
  {
   "cell_type": "code",
   "execution_count": 89,
   "id": "53cf1658",
   "metadata": {},
   "outputs": [
    {
     "name": "stdout",
     "output_type": "stream",
     "text": [
      "   userId  movieId  rating\n",
      "0       0        0     4.0\n",
      "1       0        1     4.0\n",
      "2       0        2     4.0\n",
      "3       0        3     5.0\n",
      "4       0        4     5.0\n",
      "Number of users: 610\n",
      "Number of movies: 9724\n"
     ]
    }
   ],
   "source": [
    "# Creating new indexs from userid and moviesId to create the matrix for training \n",
    "\n",
    "unique_users = movieData[\"userId\"].unique()\n",
    "unique_movies = movieData[\"movieId\"].unique()\n",
    "\n",
    "# Step 2: Build mapping dicts (old ID -> new index)\n",
    "user2idx = {old: new for new, old in enumerate(unique_users)}\n",
    "movie2idx = {old: new for new, old in enumerate(unique_movies)}\n",
    "\n",
    "# Step 3: Apply mapping\n",
    "movieData[\"userId\"] = movieData[\"userId\"].map(user2idx)\n",
    "movieData[\"movieId\"] = movieData[\"movieId\"].map(movie2idx)\n",
    "\n",
    "# Now users are in range [0, n_users-1] and movies in [0, n_movies-1]\n",
    "print(movieData.head())\n",
    "print(\"Number of users:\", len(user2idx))\n",
    "print(\"Number of movies:\", len(movie2idx))"
   ]
  },
  {
   "cell_type": "code",
   "execution_count": 90,
   "id": "7a3015be",
   "metadata": {},
   "outputs": [
    {
     "name": "stdout",
     "output_type": "stream",
     "text": [
      "Shape of R: (610, 9724)\n",
      "Example row (user 0 ratings): [4. 4. 4. 5. 5. 3. 5. 4. 5. 5. 5. 5. 3. 5. 4. 5. 3. 3. 5. 4.]\n"
     ]
    }
   ],
   "source": [
    "# Creating the matrix\n",
    "\n",
    "# Step 1: Get dimensions\n",
    "n_users = movieData[\"userId\"].nunique()\n",
    "n_movies = movieData[\"movieId\"].nunique()\n",
    "\n",
    "# Step 2: Initialize empty matrix\n",
    "R = np.zeros((n_users, n_movies))\n",
    "\n",
    "# Step 3: Fill the matrix with ratings\n",
    "for row in movieData.itertuples(index=False):\n",
    "    R[row.userId, row.movieId] = row.rating\n",
    "\n",
    "print(\"Shape of R:\", R.shape)\n",
    "print(\"Example row (user 0 ratings):\", R[0][:20])"
   ]
  },
  {
   "cell_type": "code",
   "execution_count": null,
   "id": "60183ebb",
   "metadata": {},
   "outputs": [
    {
     "name": "stdout",
     "output_type": "stream",
     "text": [
      "Matrix shape: (610, 9724)\n",
      "Total cells in R: 5931640\n",
      "Rated cells (nonzero): 100836\n",
      "Unrated cells (zero): 5830804\n",
      "Sparsity of R: 1.70%\n"
     ]
    }
   ],
   "source": [
    "# Count total entries in R\n",
    "total_entries = R.size\n",
    "nonzero_entries = np.count_nonzero(R)\n",
    "zero_entries = total_entries - nonzero_entries\n",
    "\n",
    "print(\"Matrix shape:\", R.shape)\n",
    "print(\"Total cells in R:\", total_entries)\n",
    "print(\"Rated cells (nonzero):\", nonzero_entries)\n",
    "print(\"Unrated cells (zero):\", zero_entries)\n",
    "print(\"Sparsity of R: {:.2f}%\".format(100 * nonzero_entries / total_entries))\n",
    "\n"
   ]
  },
  {
   "cell_type": "code",
   "execution_count": 92,
   "id": "af75f463",
   "metadata": {},
   "outputs": [],
   "source": [
    "def train_test_split(R, test_ratio=0.2, seed=42):\n",
    "    np.random.seed(seed)\n",
    "    train = R.copy()\n",
    "    test = np.zeros_like(R)\n",
    "\n",
    "    users, movies = R.nonzero()\n",
    "    n_ratings = len(users)\n",
    "\n",
    "    test_size = int(n_ratings * test_ratio)\n",
    "    test_indices = np.random.choice(n_ratings, size=test_size, replace=False)\n",
    "\n",
    "    for idx in test_indices:\n",
    "        u, m = users[idx], movies[idx]\n",
    "        test[u, m] = R[u, m]\n",
    "        train[u, m] = 0\n",
    "\n",
    "    return train, test\n"
   ]
  },
  {
   "cell_type": "code",
   "execution_count": 93,
   "id": "28f8e61d",
   "metadata": {},
   "outputs": [
    {
     "name": "stdout",
     "output_type": "stream",
     "text": [
      "Original ratings: 100836\n",
      "Train ratings: 80669\n",
      "Test ratings: 20167\n"
     ]
    }
   ],
   "source": [
    "train, test = train_test_split(R, test_ratio=0.2)\n",
    "\n",
    "\n",
    "print(\"Original ratings:\", np.count_nonzero(R))\n",
    "print(\"Train ratings:\", np.count_nonzero(train))\n",
    "print(\"Test ratings:\", np.count_nonzero(test))\n"
   ]
  },
  {
   "cell_type": "code",
   "execution_count": 94,
   "id": "78bb091d",
   "metadata": {},
   "outputs": [],
   "source": [
    "import numpy as np\n",
    "\n",
    "class MF_bias:\n",
    "    def __init__(self, R, K=20, alpha=0.01, beta=0.02, epochs=20):\n",
    "        self.R = R\n",
    "        self.num_users, self.num_items = R.shape\n",
    "        self.K = K\n",
    "        self.alpha = alpha\n",
    "        self.beta = beta\n",
    "        self.epochs = epochs\n",
    "\n",
    "        # Latent factors\n",
    "        self.P = np.random.normal(scale=1./self.K, size=(self.num_users, self.K))\n",
    "        self.Q = np.random.normal(scale=1./self.K, size=(self.num_items, self.K))\n",
    "\n",
    "        # Bias terms\n",
    "        self.b_u = np.zeros(self.num_users)\n",
    "        self.b_i = np.zeros(self.num_items)\n",
    "        self.mu = np.mean(R[np.where(R > 0)])  # global mean rating\n",
    "\n",
    "        # Precompute observed ratings (faster than looping over full matrix)\n",
    "        self.samples = [(u, i, R[u, i]) for u, i in zip(*R.nonzero())]\n",
    "\n",
    "    def train(self):\n",
    "        self.training_process = []\n",
    "\n",
    "        for epoch in range(self.epochs):\n",
    "            np.random.shuffle(self.samples)  # SGD shuffle\n",
    "\n",
    "            for u, i, r in self.samples:\n",
    "                # prediction with bias\n",
    "                pred = self.mu + self.b_u[u] + self.b_i[i] + np.dot(self.P[u, :], self.Q[i, :].T)\n",
    "                e_ui = r - pred\n",
    "\n",
    "                # update biases\n",
    "                self.b_u[u] += self.alpha * (e_ui - self.beta * self.b_u[u])\n",
    "                self.b_i[i] += self.alpha * (e_ui - self.beta * self.b_i[i])\n",
    "\n",
    "                # update latent factors\n",
    "                self.P[u, :] += self.alpha * (e_ui * self.Q[i, :] - self.beta * self.P[u, :])\n",
    "                self.Q[i, :] += self.alpha * (e_ui * self.P[u, :] - self.beta * self.Q[i, :])\n",
    "\n",
    "            rmse = self.rmse()\n",
    "            self.training_process.append((epoch, rmse))\n",
    "            if epoch % 5 == 0:\n",
    "                print(f\"Iteration {epoch+1}/{self.epochs} ; Train RMSE = {rmse:.4f}\")\n",
    "\n",
    "    def rmse(self):\n",
    "        predicted = self.full_matrix()\n",
    "        xs, ys = self.R.nonzero()\n",
    "        error = 0\n",
    "        for x, y in zip(xs, ys):\n",
    "            error += (self.R[x, y] - predicted[x, y]) ** 2\n",
    "        return np.sqrt(error / len(xs))\n",
    "\n",
    "    def full_matrix(self):\n",
    "        return self.mu + self.b_u[:, np.newaxis] + self.b_i[np.newaxis:, ] + np.dot(self.P, self.Q.T)\n"
   ]
  },
  {
   "cell_type": "code",
   "execution_count": 95,
   "id": "c49246f7",
   "metadata": {},
   "outputs": [
    {
     "name": "stdout",
     "output_type": "stream",
     "text": [
      "Iteration 1/51 ; Train RMSE = 0.9003\n",
      "Iteration 6/51 ; Train RMSE = 0.8397\n",
      "Iteration 11/51 ; Train RMSE = 0.8165\n",
      "Iteration 16/51 ; Train RMSE = 0.7864\n",
      "Iteration 21/51 ; Train RMSE = 0.7312\n",
      "Iteration 26/51 ; Train RMSE = 0.6621\n",
      "Iteration 31/51 ; Train RMSE = 0.5977\n",
      "Iteration 36/51 ; Train RMSE = 0.5434\n",
      "Iteration 41/51 ; Train RMSE = 0.4998\n",
      "Iteration 46/51 ; Train RMSE = 0.4657\n",
      "Iteration 51/51 ; Train RMSE = 0.4387\n",
      "Test RMSE: 0.8661199283251985\n"
     ]
    }
   ],
   "source": [
    "mf_b = MF_bias(train, K=30, alpha=0.01, beta=0.04, epochs=51)\n",
    "mf_b.train()\n",
    "\n",
    "# Evaluate on test\n",
    "test_rmse = mf_b.rmse()  # careful: this still checks train!\n",
    "pred = mf_b.full_matrix()\n",
    "\n",
    "# Proper test evaluation:\n",
    "def evaluate(pred, test):\n",
    "    xs, ys = test.nonzero()\n",
    "    error = 0\n",
    "    for x, y in zip(xs, ys):\n",
    "        # clip to rating range [1,5]\n",
    "        p = min(5, max(1, pred[x, y]))\n",
    "        error += (test[x, y] - p) ** 2\n",
    "    return np.sqrt(error / len(xs))\n",
    "\n",
    "print(\"Test RMSE:\", evaluate(pred, test))\n"
   ]
  },
  {
   "cell_type": "markdown",
   "id": "0d225ce8",
   "metadata": {},
   "source": [
    "# Just testing the recommendations"
   ]
  },
  {
   "cell_type": "code",
   "execution_count": 96,
   "id": "5141f7b5",
   "metadata": {},
   "outputs": [],
   "source": [
    "# Reverse maps\n",
    "idx2user = {v: k for k, v in user2idx.items()}\n",
    "idx2movie = {v: k for k, v in movie2idx.items()}"
   ]
  },
  {
   "cell_type": "code",
   "execution_count": 97,
   "id": "8b8384cd",
   "metadata": {},
   "outputs": [],
   "source": [
    "def recommend_movies(mf_model, user_idx, movieData, moviesMapping, N=5):\n",
    "    \"\"\"\n",
    "    Get top-N movie recommendations for a user.\n",
    "    \"\"\"\n",
    "    # Predictions for this user\n",
    "    predictions = mf_model.full_matrix()[user_idx]\n",
    "\n",
    "    # Movies this user already rated\n",
    "    rated_movies = set(movieData[movieData.userId == user_idx][\"movieId\"].tolist())\n",
    "\n",
    "    # Exclude rated movies\n",
    "    unrated_indices = [i for i in range(len(predictions)) if i not in rated_movies]\n",
    "\n",
    "    # Sort unrated movies by predicted rating\n",
    "    top_indices = sorted(unrated_indices, key=lambda x: predictions[x], reverse=True)[:N]\n",
    "\n",
    "    recommendations = []\n",
    "    for idx in top_indices:\n",
    "        orig_movieId = idx2movie[idx]\n",
    "\n",
    "        # Make sure movie exists in mapping\n",
    "        row = moviesMapping.loc[moviesMapping.movieId == orig_movieId]\n",
    "        if not row.empty:\n",
    "            title = row.iloc[0][\"title\"]\n",
    "        else:\n",
    "            title = f\"Unknown Movie (ID {orig_movieId})\"\n",
    "\n",
    "        pred_rating = predictions[idx]\n",
    "        recommendations.append((title, round(float(pred_rating), 2)))\n",
    "\n",
    "    return recommendations\n"
   ]
  },
  {
   "cell_type": "code",
   "execution_count": 98,
   "id": "4885b0c7",
   "metadata": {},
   "outputs": [
    {
     "name": "stdout",
     "output_type": "stream",
     "text": [
      "Top recommendations for user 100 (orig ID: 101):\n",
      "Pulp Fiction (1994) (predicted rating: 4.93)\n",
      "Trainspotting (1996) (predicted rating: 4.81)\n",
      "To Kill a Mockingbird (1962) (predicted rating: 4.78)\n",
      "Rosencrantz and Guildenstern Are Dead (1990) (predicted rating: 4.73)\n",
      "Donnie Darko (2001) (predicted rating: 4.69)\n"
     ]
    }
   ],
   "source": [
    "user_idx = 100  # reindexed user\n",
    "\n",
    "top_recs = recommend_movies(mf_b, user_idx, movieData, moviesMapping, N=5)\n",
    "\n",
    "print(f\"Top recommendations for user {user_idx} (orig ID: {idx2user[user_idx]}):\")\n",
    "for title, score in top_recs:\n",
    "    print(f\"{title} (predicted rating: {score})\")\n"
   ]
  }
 ],
 "metadata": {
  "kernelspec": {
   "display_name": "myenv",
   "language": "python",
   "name": "python3"
  },
  "language_info": {
   "codemirror_mode": {
    "name": "ipython",
    "version": 3
   },
   "file_extension": ".py",
   "mimetype": "text/x-python",
   "name": "python",
   "nbconvert_exporter": "python",
   "pygments_lexer": "ipython3",
   "version": "3.9.6"
  }
 },
 "nbformat": 4,
 "nbformat_minor": 5
}

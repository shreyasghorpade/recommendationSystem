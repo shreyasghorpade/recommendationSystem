{
 "cells": [
  {
   "cell_type": "code",
   "execution_count": 111,
   "id": "586a76ea",
   "metadata": {},
   "outputs": [
    {
     "name": "stdout",
     "output_type": "stream",
     "text": [
      "Using device: mps\n"
     ]
    }
   ],
   "source": [
    "import pandas as pd\n",
    "import numpy as np\n",
    "import torch\n",
    "import torch.nn as nn\n",
    "import torch.optim as optim\n",
    "from torch.utils.data import TensorDataset, DataLoader\n",
    "\n",
    "# pick device\n",
    "device = torch.device(\"mps\" if torch.backends.mps.is_available() else \"cpu\")\n",
    "print(\"Using device:\", device)"
   ]
  },
  {
   "cell_type": "code",
   "execution_count": 112,
   "id": "ca7ef8ad",
   "metadata": {},
   "outputs": [],
   "source": [
    "movieData = pd.read_csv(\"data/ratings.csv\")\n",
    "movieData.drop(\"timestamp\", axis = 1, inplace=True)"
   ]
  },
  {
   "cell_type": "code",
   "execution_count": 113,
   "id": "1c268622",
   "metadata": {},
   "outputs": [
    {
     "data": {
      "text/html": [
       "<div>\n",
       "<style scoped>\n",
       "    .dataframe tbody tr th:only-of-type {\n",
       "        vertical-align: middle;\n",
       "    }\n",
       "\n",
       "    .dataframe tbody tr th {\n",
       "        vertical-align: top;\n",
       "    }\n",
       "\n",
       "    .dataframe thead th {\n",
       "        text-align: right;\n",
       "    }\n",
       "</style>\n",
       "<table border=\"1\" class=\"dataframe\">\n",
       "  <thead>\n",
       "    <tr style=\"text-align: right;\">\n",
       "      <th></th>\n",
       "      <th>userId</th>\n",
       "      <th>movieId</th>\n",
       "      <th>rating</th>\n",
       "    </tr>\n",
       "  </thead>\n",
       "  <tbody>\n",
       "    <tr>\n",
       "      <th>0</th>\n",
       "      <td>1</td>\n",
       "      <td>1</td>\n",
       "      <td>4.0</td>\n",
       "    </tr>\n",
       "    <tr>\n",
       "      <th>1</th>\n",
       "      <td>1</td>\n",
       "      <td>3</td>\n",
       "      <td>4.0</td>\n",
       "    </tr>\n",
       "    <tr>\n",
       "      <th>2</th>\n",
       "      <td>1</td>\n",
       "      <td>6</td>\n",
       "      <td>4.0</td>\n",
       "    </tr>\n",
       "    <tr>\n",
       "      <th>3</th>\n",
       "      <td>1</td>\n",
       "      <td>47</td>\n",
       "      <td>5.0</td>\n",
       "    </tr>\n",
       "    <tr>\n",
       "      <th>4</th>\n",
       "      <td>1</td>\n",
       "      <td>50</td>\n",
       "      <td>5.0</td>\n",
       "    </tr>\n",
       "  </tbody>\n",
       "</table>\n",
       "</div>"
      ],
      "text/plain": [
       "   userId  movieId  rating\n",
       "0       1        1     4.0\n",
       "1       1        3     4.0\n",
       "2       1        6     4.0\n",
       "3       1       47     5.0\n",
       "4       1       50     5.0"
      ]
     },
     "execution_count": 113,
     "metadata": {},
     "output_type": "execute_result"
    }
   ],
   "source": [
    "movieData.head(5)"
   ]
  },
  {
   "cell_type": "code",
   "execution_count": 114,
   "id": "80b09b7c",
   "metadata": {},
   "outputs": [],
   "source": [
    "# Scaling ratings\n",
    "\n",
    "ratings, min_rating, max_rating = movieData[\"rating\"], movieData[\"rating\"].min(), movieData[\"rating\"].max()\n",
    "movieData[\"rating\"] = (ratings - min_rating)/ (max_rating - min_rating)\n"
   ]
  },
  {
   "cell_type": "code",
   "execution_count": 115,
   "id": "fb2b8ea3",
   "metadata": {},
   "outputs": [],
   "source": [
    "# Reindexing user Ids and Movie Ids\n",
    "\n",
    "unqusers = movieData[\"userId\"].unique()\n",
    "unqmovies = movieData[\"movieId\"].unique()\n",
    "\n",
    "nUsers = movieData[\"userId\"].nunique()\n",
    "nMovies = movieData[\"movieId\"].nunique()\n",
    "\n",
    "\n",
    "userIndex = {old : new for new, old in enumerate(unqusers)}\n",
    "movieIndex = {old : new for new, old in enumerate(unqmovies)}\n",
    "reverse_userIndex = {v : k for k, v in userIndex.items()}\n",
    "reverse_movieIndex = {v : k for k, v in movieIndex.items()}\n",
    "\n",
    "movieData[\"userId\"] = movieData[\"userId\"].map(userIndex)\n",
    "movieData[\"movieId\"] = movieData[\"movieId\"].map(movieIndex)"
   ]
  },
  {
   "cell_type": "code",
   "execution_count": 116,
   "id": "e7b7a2c6",
   "metadata": {},
   "outputs": [
    {
     "data": {
      "text/html": [
       "<div>\n",
       "<style scoped>\n",
       "    .dataframe tbody tr th:only-of-type {\n",
       "        vertical-align: middle;\n",
       "    }\n",
       "\n",
       "    .dataframe tbody tr th {\n",
       "        vertical-align: top;\n",
       "    }\n",
       "\n",
       "    .dataframe thead th {\n",
       "        text-align: right;\n",
       "    }\n",
       "</style>\n",
       "<table border=\"1\" class=\"dataframe\">\n",
       "  <thead>\n",
       "    <tr style=\"text-align: right;\">\n",
       "      <th></th>\n",
       "      <th>userId</th>\n",
       "      <th>movieId</th>\n",
       "      <th>rating</th>\n",
       "    </tr>\n",
       "  </thead>\n",
       "  <tbody>\n",
       "    <tr>\n",
       "      <th>0</th>\n",
       "      <td>0</td>\n",
       "      <td>0</td>\n",
       "      <td>0.777778</td>\n",
       "    </tr>\n",
       "    <tr>\n",
       "      <th>1</th>\n",
       "      <td>0</td>\n",
       "      <td>1</td>\n",
       "      <td>0.777778</td>\n",
       "    </tr>\n",
       "    <tr>\n",
       "      <th>2</th>\n",
       "      <td>0</td>\n",
       "      <td>2</td>\n",
       "      <td>0.777778</td>\n",
       "    </tr>\n",
       "    <tr>\n",
       "      <th>3</th>\n",
       "      <td>0</td>\n",
       "      <td>3</td>\n",
       "      <td>1.000000</td>\n",
       "    </tr>\n",
       "    <tr>\n",
       "      <th>4</th>\n",
       "      <td>0</td>\n",
       "      <td>4</td>\n",
       "      <td>1.000000</td>\n",
       "    </tr>\n",
       "  </tbody>\n",
       "</table>\n",
       "</div>"
      ],
      "text/plain": [
       "   userId  movieId    rating\n",
       "0       0        0  0.777778\n",
       "1       0        1  0.777778\n",
       "2       0        2  0.777778\n",
       "3       0        3  1.000000\n",
       "4       0        4  1.000000"
      ]
     },
     "execution_count": 116,
     "metadata": {},
     "output_type": "execute_result"
    }
   ],
   "source": [
    "movieData.head(5)"
   ]
  },
  {
   "cell_type": "code",
   "execution_count": 117,
   "id": "01bc85bd",
   "metadata": {},
   "outputs": [],
   "source": [
    "users = torch.LongTensor(movieData[\"userId\"].values)\n",
    "items = torch.LongTensor(movieData[\"movieId\"].values)\n",
    "ratings = torch.FloatTensor(movieData[\"rating\"].values)\n",
    "\n",
    "dataset = TensorDataset(users, items, ratings)\n",
    "loader = DataLoader(dataset, batch_size=4, shuffle=True)"
   ]
  },
  {
   "cell_type": "code",
   "execution_count": 118,
   "id": "1efa65ff",
   "metadata": {},
   "outputs": [],
   "source": [
    "# Generalized Matrix Factorization Model\n",
    "\n",
    "class GMFModel(nn.Module):\n",
    "    \"Matrix Factorization Model\"\n",
    "    \n",
    "    def __init__(self, num_users: int, num_items: int, embedding_dim: int):\n",
    "        \"Initializing the parameters\"\n",
    "        super().__init__()\n",
    "        \n",
    "        self.user_embeddings = nn.Embedding(num_embeddings=num_users, embedding_dim=embedding_dim)\n",
    "        self.item_embeddings = nn.Embedding(num_embeddings=num_items, embedding_dim=embedding_dim)\n",
    "        \n",
    "        nn.init.normal_(self.user_embeddings.weight, std=0.01)\n",
    "        nn.init.normal_(self.item_embeddings.weight, std=0.01)\n",
    "        \n",
    "        self.affine_transform = nn.Linear(in_features=embedding_dim, out_features=1)\n",
    "        \n",
    "        nn.init.ones_(self.affine_transform.weight)  # weight = [1,1,...,1]\n",
    "        nn.init.zeros_(self.affine_transform.bias) \n",
    "        \n",
    "    def forward(self, users: torch.tensor, items: torch.tensor):\n",
    "        \"Performs the forward pass\"\n",
    "        \n",
    "        user_embeddings = self.user_embeddings(users)\n",
    "        item_embeddings = self.item_embeddings(items)\n",
    "        \n",
    "        out = self.affine_transform((user_embeddings * item_embeddings))\n",
    "        \n",
    "        return out.view(-1)\n",
    "        "
   ]
  },
  {
   "cell_type": "code",
   "execution_count": 119,
   "id": "bf6cc417",
   "metadata": {},
   "outputs": [],
   "source": [
    "# Setting up the model\n",
    "\n",
    "model = GMFModel(nUsers, nMovies, embedding_dim=20)\n",
    "\n",
    "criterion = nn.MSELoss()\n",
    "optimizer = torch.optim.Adam(model.parameters(), lr=0.001, weight_decay=1e-5)"
   ]
  },
  {
   "cell_type": "code",
   "execution_count": 120,
   "id": "b05fb7b6",
   "metadata": {},
   "outputs": [
    {
     "name": "stdout",
     "output_type": "stream",
     "text": [
      "Epoch 1/10, Loss: 0.0501\n",
      "Epoch 2/10, Loss: 0.0383\n",
      "Epoch 3/10, Loss: 0.0356\n",
      "Epoch 4/10, Loss: 0.0341\n",
      "Epoch 5/10, Loss: 0.0332\n",
      "Epoch 6/10, Loss: 0.0327\n",
      "Epoch 7/10, Loss: 0.0325\n",
      "Epoch 8/10, Loss: 0.0323\n",
      "Epoch 9/10, Loss: 0.0321\n",
      "Epoch 10/10, Loss: 0.0320\n"
     ]
    }
   ],
   "source": [
    "epochs = 10\n",
    "for epoch in range(epochs):\n",
    "    model.train()\n",
    "    total_loss = 0\n",
    "    \n",
    "    for batch_users, batch_items, batch_ratings in loader:\n",
    "        optimizer.zero_grad()\n",
    "        \n",
    "        preds = model(batch_users, batch_items)\n",
    "        loss = criterion(preds, batch_ratings)\n",
    "        \n",
    "        loss.backward()\n",
    "        optimizer.step()\n",
    "        \n",
    "        total_loss += loss.item()\n",
    "    \n",
    "    print(f\"Epoch {epoch+1}/{epochs}, Loss: {total_loss/len(loader):.4f}\")"
   ]
  },
  {
   "cell_type": "code",
   "execution_count": 121,
   "id": "d509c6eb",
   "metadata": {},
   "outputs": [],
   "source": [
    "import math\n",
    "\n",
    "def evaluate_rmse(model, data_loader, criterion=nn.MSELoss()):\n",
    "    model.eval()\n",
    "    total_loss = 0.0\n",
    "    count = 0\n",
    "    \n",
    "    with torch.no_grad():\n",
    "        for users, items, ratings in data_loader:\n",
    "            preds = model(users, items)\n",
    "            # make sure preds and ratings have same shape\n",
    "            if preds.dim() > 1:\n",
    "                preds = preds.view(-1)\n",
    "            loss = criterion(preds, ratings)\n",
    "            total_loss += loss.item() * len(ratings)  # accumulate weighted by batch size\n",
    "            count += len(ratings)\n",
    "    \n",
    "    mse = total_loss / count\n",
    "    rmse = math.sqrt(mse)\n",
    "    return rmse"
   ]
  },
  {
   "cell_type": "code",
   "execution_count": 123,
   "id": "fc53beec",
   "metadata": {},
   "outputs": [
    {
     "name": "stdout",
     "output_type": "stream",
     "text": [
      "MF RMSE: 0.1589819367436822\n"
     ]
    }
   ],
   "source": [
    "mf_rmse = evaluate_rmse(model, loader)\n",
    "print(\"MF RMSE:\", mf_rmse)"
   ]
  }
 ],
 "metadata": {
  "kernelspec": {
   "display_name": "myenv",
   "language": "python",
   "name": "python3"
  },
  "language_info": {
   "codemirror_mode": {
    "name": "ipython",
    "version": 3
   },
   "file_extension": ".py",
   "mimetype": "text/x-python",
   "name": "python",
   "nbconvert_exporter": "python",
   "pygments_lexer": "ipython3",
   "version": "3.9.6"
  }
 },
 "nbformat": 4,
 "nbformat_minor": 5
}
